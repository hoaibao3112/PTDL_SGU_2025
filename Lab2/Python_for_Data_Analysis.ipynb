{
  "cells": [
    {
      "cell_type": "markdown",
      "metadata": {
        "id": "cRJI8z2kXMNg"
      },
      "source": [
        "# file 2 appb"
      ]
    },
    {
      "cell_type": "markdown",
      "metadata": {
        "id": "E_1S3z4gXMNh"
      },
      "source": [
        "ví dụ 1"
      ]
    },
    {
      "cell_type": "code",
      "execution_count": 4,
      "metadata": {
        "id": "Auv9O6NTXMNh"
      },
      "outputs": [],
      "source": [
        "import numpy as np\n",
        "import pandas as pd\n",
        "import matplotlib.pyplot as plt\n",
        "plt.rc('figure', figsize=(10, 6))\n",
        "PREVIOUS_MAX_ROWS = pd.options.display.max_rows\n",
        "pd.options.display.max_columns = 20\n",
        "pd.options.display.max_rows = 20\n",
        "pd.options.display.max_colwidth = 80\n",
        "np.set_printoptions(precision=4, suppress=True)"
      ]
    },
    {
      "cell_type": "markdown",
      "metadata": {
        "id": "kcJoMFbHXMNi"
      },
      "source": [
        "ví dụ 2"
      ]
    },
    {
      "cell_type": "code",
      "execution_count": 5,
      "metadata": {
        "id": "3UzEEX_uXMNi"
      },
      "outputs": [],
      "source": [
        "# a very large list of strings\n",
        "strings = ['foo', 'foobar', 'baz', 'qux',\n",
        "           'python', 'Guido Van Rossum'] * 100000\n",
        "\n",
        "method1 = [x for x in strings if x.startswith('foo')]\n",
        "\n",
        "method2 = [x for x in strings if x[:3] == 'foo']"
      ]
    },
    {
      "cell_type": "markdown",
      "metadata": {
        "id": "75EcH9ufXMNj"
      },
      "source": [
        "ví dụ 3"
      ]
    },
    {
      "cell_type": "code",
      "execution_count": null,
      "metadata": {
        "id": "DiFRHgQWXMNj"
      },
      "outputs": [],
      "source": [
        "%time method1 = [x for x in strings if x.startswith('foo')]\n",
        "%time method2 = [x for x in strings if x[:3] == 'foo']"
      ]
    },
    {
      "cell_type": "code",
      "execution_count": null,
      "metadata": {
        "id": "uaqAX_W5XMNj"
      },
      "outputs": [],
      "source": [
        "ví dụ 4"
      ]
    },
    {
      "cell_type": "code",
      "execution_count": 6,
      "metadata": {
        "id": "tFSH9VE1XMNj"
      },
      "outputs": [],
      "source": [
        "pd.options.display.max_rows = PREVIOUS_MAX_ROWS"
      ]
    },
    {
      "cell_type": "markdown",
      "source": [
        "#**file ch02.ipynb**"
      ],
      "metadata": {
        "id": "_AFM4Z-rjtTg"
      }
    },
    {
      "cell_type": "markdown",
      "source": [
        "**ví dụ 1**"
      ],
      "metadata": {
        "id": "uOJoQTJNlaPN"
      }
    },
    {
      "cell_type": "code",
      "source": [
        "import numpy as np\n",
        "np.random.seed(12345)\n",
        "np.set_printoptions(precision=4, suppress=True)"
      ],
      "metadata": {
        "id": "Fp7cP0lmlaWc"
      },
      "execution_count": null,
      "outputs": []
    },
    {
      "cell_type": "markdown",
      "source": [
        "ví dụ 2"
      ],
      "metadata": {
        "id": "oyX43e9Glh15"
      }
    },
    {
      "cell_type": "code",
      "source": [
        "import numpy as np\n",
        "data = [np.random.standard_normal() for i in range(7)]\n",
        "data"
      ],
      "metadata": {
        "colab": {
          "base_uri": "https://localhost:8080/"
        },
        "id": "j-FlR4B6lijZ",
        "outputId": "c4dffd0f-b559-4136-c81f-bfd3062ba9fb"
      },
      "execution_count": 7,
      "outputs": [
        {
          "output_type": "execute_result",
          "data": {
            "text/plain": [
              "[0.5458213958616934,\n",
              " 1.1572876761319775,\n",
              " 1.029688743988041,\n",
              " -0.3008298725787461,\n",
              " 2.8817394193855272,\n",
              " -0.318804050588996,\n",
              " 1.479165967142085]"
            ]
          },
          "metadata": {},
          "execution_count": 7
        }
      ]
    },
    {
      "cell_type": "markdown",
      "source": [
        "ví dụ 3"
      ],
      "metadata": {
        "id": "2EYMeuHel0GU"
      }
    },
    {
      "cell_type": "code",
      "source": [
        "a = [1, 2, 3]"
      ],
      "metadata": {
        "id": "3eNhmc5pl0nh"
      },
      "execution_count": null,
      "outputs": []
    },
    {
      "cell_type": "markdown",
      "source": [
        "b = a\n",
        "b"
      ],
      "metadata": {
        "id": "UMUtvmj4l1oM"
      }
    },
    {
      "cell_type": "markdown",
      "source": [
        "*ví dụ 4*"
      ],
      "metadata": {
        "id": "qCMkNpFGmOZf"
      }
    },
    {
      "cell_type": "code",
      "source": [
        "a.append(4)\n",
        "b"
      ],
      "metadata": {
        "colab": {
          "base_uri": "https://localhost:8080/",
          "height": 158
        },
        "id": "G6Duq3uSmQcY",
        "outputId": "98e8acbb-22f4-4ea2-84ca-f857e0615bde"
      },
      "execution_count": 8,
      "outputs": [
        {
          "output_type": "error",
          "ename": "NameError",
          "evalue": "name 'a' is not defined",
          "traceback": [
            "\u001b[0;31m---------------------------------------------------------------------------\u001b[0m",
            "\u001b[0;31mNameError\u001b[0m                                 Traceback (most recent call last)",
            "\u001b[0;32m/tmp/ipython-input-2356314435.py\u001b[0m in \u001b[0;36m<cell line: 0>\u001b[0;34m()\u001b[0m\n\u001b[0;32m----> 1\u001b[0;31m \u001b[0ma\u001b[0m\u001b[0;34m.\u001b[0m\u001b[0mappend\u001b[0m\u001b[0;34m(\u001b[0m\u001b[0;36m4\u001b[0m\u001b[0;34m)\u001b[0m\u001b[0;34m\u001b[0m\u001b[0;34m\u001b[0m\u001b[0m\n\u001b[0m\u001b[1;32m      2\u001b[0m \u001b[0mb\u001b[0m\u001b[0;34m\u001b[0m\u001b[0;34m\u001b[0m\u001b[0m\n",
            "\u001b[0;31mNameError\u001b[0m: name 'a' is not defined"
          ]
        }
      ]
    },
    {
      "cell_type": "code",
      "metadata": {
        "colab": {
          "base_uri": "https://localhost:8080/"
        },
        "id": "b3ea3ac1",
        "outputId": "879342d1-bd60-4d79-9ac9-5093e1670783"
      },
      "source": [
        "# Định nghĩa danh sách a\n",
        "a = [1, 2, 3]\n",
        "\n",
        "# Tạo bản sao của a cho b\n",
        "b = a.copy()  # hoặc b = list(a)\n",
        "\n",
        "# Thêm phần tử 4 vào a\n",
        "a.append(4)\n",
        "\n",
        "# In b để kiểm tra\n",
        "print(b)  # Kết quả: [1, 2, 3]\n",
        "print(a)  # Kết quả: [1, 2, 3, 4]"
      ],
      "execution_count": 14,
      "outputs": [
        {
          "output_type": "stream",
          "name": "stdout",
          "text": [
            "[1, 2, 3]\n",
            "[1, 2, 3, 4]\n"
          ]
        }
      ]
    },
    {
      "cell_type": "code",
      "metadata": {
        "id": "91bc5de6"
      },
      "source": [
        "a = [1, 2, 3]"
      ],
      "execution_count": null,
      "outputs": []
    },
    {
      "cell_type": "code",
      "metadata": {
        "id": "d819a8a6"
      },
      "source": [
        "a = [1, 2, 3]\n",
        "b = a"
      ],
      "execution_count": 13,
      "outputs": []
    },
    {
      "cell_type": "markdown",
      "source": [
        "**ví dụ 5**"
      ],
      "metadata": {
        "id": "7ef35M9em5zB"
      }
    },
    {
      "cell_type": "code",
      "source": [
        "def append_element(some_list, element):\n",
        "    some_list.append(element)\n",
        "\n",
        "data = [1, 2, 3]\n",
        "append_element(data, 4)\n",
        "print(data)  # Kết quả: [1, 2, 3, 4]"
      ],
      "metadata": {
        "colab": {
          "base_uri": "https://localhost:8080/"
        },
        "id": "Isxc1tY_m_fb",
        "outputId": "e1e32ae4-0ac3-4630-f16c-23095fdd1c1d"
      },
      "execution_count": 16,
      "outputs": [
        {
          "output_type": "stream",
          "name": "stdout",
          "text": [
            "[1, 2, 3, 4]\n"
          ]
        }
      ]
    },
    {
      "cell_type": "markdown",
      "source": [
        "**ví dụ 6**"
      ],
      "metadata": {
        "id": "4qe_TdWInjmZ"
      }
    },
    {
      "cell_type": "code",
      "source": [
        "def append_element(some_list, element):\n",
        "    some_list.append(element)\n",
        "\n",
        "data = [1, 2, 3]\n",
        "append_element(data, 4)\n",
        "data"
      ],
      "metadata": {
        "colab": {
          "base_uri": "https://localhost:8080/"
        },
        "id": "b1tKwfh1nlOJ",
        "outputId": "5e3c76d3-2f04-48f0-874c-315fa1f60e82"
      },
      "execution_count": 17,
      "outputs": [
        {
          "output_type": "execute_result",
          "data": {
            "text/plain": [
              "[1, 2, 3, 4]"
            ]
          },
          "metadata": {},
          "execution_count": 17
        }
      ]
    },
    {
      "cell_type": "markdown",
      "source": [
        "**ví dụ 7**"
      ],
      "metadata": {
        "id": "UMsvA485nsr2"
      }
    },
    {
      "cell_type": "code",
      "source": [
        "a = 5\n",
        "type(a)\n",
        "a = \"foo\"\n",
        "type(a)"
      ],
      "metadata": {
        "id": "DU4Bi7EanuKN"
      },
      "execution_count": null,
      "outputs": []
    },
    {
      "cell_type": "markdown",
      "source": [
        "**ví dụ 8**"
      ],
      "metadata": {
        "id": "d3lhXzFrn9pR"
      }
    },
    {
      "cell_type": "code",
      "source": [
        "a = 5\n",
        "print(f\"Giá trị của a: {a}, Kiểu: {type(a)}\")\n",
        "a = \"foo\"\n",
        "print(f\"Giá trị của a: {a}, Kiểu: {type(a)}\")"
      ],
      "metadata": {
        "colab": {
          "base_uri": "https://localhost:8080/"
        },
        "id": "6utjpKKboCZg",
        "outputId": "a14c585c-262e-49fb-db7a-5c929f5287b6"
      },
      "execution_count": 18,
      "outputs": [
        {
          "output_type": "stream",
          "name": "stdout",
          "text": [
            "Giá trị của a: 5, Kiểu: <class 'int'>\n",
            "Giá trị của a: foo, Kiểu: <class 'str'>\n"
          ]
        }
      ]
    },
    {
      "cell_type": "markdown",
      "source": [
        "**ví dụ 9**"
      ],
      "metadata": {
        "id": "LOJvAJmJoDvg"
      }
    },
    {
      "cell_type": "code",
      "source": [
        "try:\n",
        "    result = \"5\" + 5\n",
        "except TypeError as e:\n",
        "    print(\"Lỗi khi thực hiện '5' + 5:\", e)"
      ],
      "metadata": {
        "id": "4CZWhNjBoFw2"
      },
      "execution_count": null,
      "outputs": []
    },
    {
      "cell_type": "markdown",
      "source": [
        "ví dụ 10"
      ],
      "metadata": {
        "id": "0_2oGluxoJFk"
      }
    },
    {
      "cell_type": "code",
      "source": [
        "a = 4.5\n",
        "b = 2\n",
        "print(f\"a is {type(a)}, b is {type(b)}\")\n",
        "print(\"Kết quả a / b:\", a / b)"
      ],
      "metadata": {
        "colab": {
          "base_uri": "https://localhost:8080/"
        },
        "id": "xwjTOwovoMaC",
        "outputId": "a58ee33f-44fb-440c-e2da-e1f87d515a41"
      },
      "execution_count": 19,
      "outputs": [
        {
          "output_type": "stream",
          "name": "stdout",
          "text": [
            "a is <class 'float'>, b is <class 'int'>\n",
            "Kết quả a / b: 2.25\n"
          ]
        }
      ]
    },
    {
      "cell_type": "markdown",
      "source": [
        "**ví dụ 11**"
      ],
      "metadata": {
        "id": "aJSvZm8goPY5"
      }
    },
    {
      "cell_type": "code",
      "source": [
        "a = 5\n",
        "print(\"Kiểm tra a có phải int:\", isinstance(a, int))"
      ],
      "metadata": {
        "id": "HW8V2073oRKg"
      },
      "execution_count": null,
      "outputs": []
    },
    {
      "cell_type": "markdown",
      "source": [
        "**ví dụ 12**"
      ],
      "metadata": {
        "id": "wEOLLMgzoSUB"
      }
    },
    {
      "cell_type": "code",
      "source": [
        "a = 5\n",
        "b = 4.5\n",
        "print(\"Kiểm tra a có phải int hoặc float:\", isinstance(a, (int, float)))\n",
        "print(\"Kiểm tra b có phải int hoặc float:\", isinstance(b, (int, float)))"
      ],
      "metadata": {
        "id": "fqncvopHoUlT"
      },
      "execution_count": null,
      "outputs": []
    },
    {
      "cell_type": "markdown",
      "source": [
        "**ví dụ 13**"
      ],
      "metadata": {
        "id": "s7sA5qesoVPV"
      }
    },
    {
      "cell_type": "code",
      "source": [
        "# ví dụ 13\n",
        "a = \"foo\"\n",
        "print(\"Phương thức split của a:\", getattr(a, \"split\"))"
      ],
      "metadata": {
        "colab": {
          "base_uri": "https://localhost:8080/"
        },
        "id": "pYdRITyJokFD",
        "outputId": "cbf91cd7-6f1e-4b2e-cc97-3ec11efdbbbd"
      },
      "execution_count": 20,
      "outputs": [
        {
          "output_type": "stream",
          "name": "stdout",
          "text": [
            "Phương thức split của a: <built-in method split of str object at 0x7eac043e4e70>\n"
          ]
        }
      ]
    },
    {
      "cell_type": "markdown",
      "source": [
        "ví dụ 14"
      ],
      "metadata": {
        "id": "ptSbxzjtolRU"
      }
    },
    {
      "cell_type": "code",
      "source": [
        "def isiterable(obj):\n",
        "    try:\n",
        "        iter(obj)\n",
        "        return True\n",
        "    except TypeError:\n",
        "        return False\n",
        "print(\"Đã định nghĩa hàm isiterable\")"
      ],
      "metadata": {
        "id": "rzwI-HVto1An"
      },
      "execution_count": null,
      "outputs": []
    },
    {
      "cell_type": "markdown",
      "source": [
        "***vú dụ 15***"
      ],
      "metadata": {
        "id": "nMn--8vQo2ho"
      }
    },
    {
      "cell_type": "code",
      "source": [
        "print(\"Kiểm tra 'a string' có phải iterable:\", isiterable(\"a string\"))\n",
        "print(\"Kiểm tra [1, 2, 3] có phải iterable:\", isiterable([1, 2, 3]))\n",
        "print(\"Kiểm tra 5 có phải iterable:\", isiterable(5))"
      ],
      "metadata": {
        "id": "NpGtX_P1o32l"
      },
      "execution_count": null,
      "outputs": []
    },
    {
      "cell_type": "markdown",
      "source": [
        "**ví dụ 16**"
      ],
      "metadata": {
        "id": "YnnD9brbo49A"
      }
    },
    {
      "cell_type": "code",
      "source": [
        "print(\"Kết quả 5 - 7:\", 5 - 7)\n",
        "print(\"Kết quả 12 + 21.5:\", 12 + 21.5)\n",
        "print(\"Kết quả 5 <= 2:\", 5 <= 2)"
      ],
      "metadata": {
        "id": "3UXaWnLyo7-j"
      },
      "execution_count": null,
      "outputs": []
    },
    {
      "cell_type": "markdown",
      "source": [
        "**ví dụ 17**"
      ],
      "metadata": {
        "id": "4QTRxwEJo-01"
      }
    },
    {
      "cell_type": "code",
      "source": [
        "a = [1, 2, 3]\n",
        "b = a\n",
        "c = list(a)\n",
        "print(\"Kiểm tra a is b:\", a is b)\n",
        "print(\"Kiểm tra a is not c:\", a is not c)"
      ],
      "metadata": {
        "id": "zbYHJJAcpASm"
      },
      "execution_count": null,
      "outputs": []
    },
    {
      "cell_type": "markdown",
      "source": [
        "**ví dụ 18**"
      ],
      "metadata": {
        "id": "dNIYUIfepIpz"
      }
    },
    {
      "cell_type": "code",
      "source": [
        "print(\"Kiểm tra a == c:\", a == c)"
      ],
      "metadata": {
        "id": "eYaApjszpJ8f"
      },
      "execution_count": null,
      "outputs": []
    },
    {
      "cell_type": "markdown",
      "source": [
        "**ví dụ 19**"
      ],
      "metadata": {
        "id": "2JXvoIzNpNus"
      }
    },
    {
      "cell_type": "code",
      "source": [
        "a = None\n",
        "print(\"Kiểm tra a is None:\", a is None)"
      ],
      "metadata": {
        "id": "xClbgG1ppN3i"
      },
      "execution_count": null,
      "outputs": []
    },
    {
      "cell_type": "markdown",
      "source": [
        "**ví dụ 20**"
      ],
      "metadata": {
        "id": "66_LsyijpTXw"
      }
    },
    {
      "cell_type": "code",
      "source": [
        "a_list = [\"foo\", 2, [4, 5]]\n",
        "a_list[2] = (3, 4)\n",
        "print(\"Danh sách a_list sau khi thay đổi:\", a_list)"
      ],
      "metadata": {
        "id": "g3ka-QThpTgT"
      },
      "execution_count": null,
      "outputs": []
    },
    {
      "cell_type": "markdown",
      "source": [
        "**ví dụ 21**"
      ],
      "metadata": {
        "id": "NqXD3lmjpacx"
      }
    },
    {
      "cell_type": "code",
      "source": [
        "try:\n",
        "    a_tuple = (3, 5, (4, 5))\n",
        "    a_tuple[1] = \"four\"\n",
        "except TypeError as e:\n",
        "    print(\"Lỗi khi cố gắng sửa tuple:\", e)"
      ],
      "metadata": {
        "colab": {
          "base_uri": "https://localhost:8080/"
        },
        "id": "C2Mhnq9ApajS",
        "outputId": "013ae646-8349-4592-e2c1-40a81d6178d6"
      },
      "execution_count": 21,
      "outputs": [
        {
          "output_type": "stream",
          "name": "stdout",
          "text": [
            "Lỗi khi cố gắng sửa tuple: 'tuple' object does not support item assignment\n"
          ]
        }
      ]
    },
    {
      "cell_type": "markdown",
      "source": [
        "ví dụ 22"
      ],
      "metadata": {
        "id": "KzaQKwfdpjdj"
      }
    },
    {
      "cell_type": "code",
      "source": [
        "ival = 17239871\n",
        "print(\"Kết quả ival ** 6:\", ival ** 6)"
      ],
      "metadata": {
        "id": "HJLmo1SppozI"
      },
      "execution_count": null,
      "outputs": []
    },
    {
      "cell_type": "markdown",
      "source": [
        "**ví dụ 23**"
      ],
      "metadata": {
        "id": "TNpPQZtops5l"
      }
    },
    {
      "cell_type": "code",
      "source": [
        "fval = 7.243\n",
        "fval2 = 6.78e-5\n",
        "print(\"fval:\", fval)\n",
        "print(\"fval2:\", fval2)"
      ],
      "metadata": {
        "id": "mczR31-5pu6y"
      },
      "execution_count": null,
      "outputs": []
    },
    {
      "cell_type": "markdown",
      "source": [
        "**ví dụ 24**"
      ],
      "metadata": {
        "id": "1Fma7KO9pwOp"
      }
    },
    {
      "cell_type": "code",
      "source": [
        "print(\"Kết quả 3 / 2:\", 3 / 2)"
      ],
      "metadata": {
        "id": "oQi6Hkujp6RW"
      },
      "execution_count": null,
      "outputs": []
    },
    {
      "cell_type": "markdown",
      "source": [
        "**ví dụ 25**"
      ],
      "metadata": {
        "id": "H52_7ZLhp8QX"
      }
    },
    {
      "cell_type": "code",
      "source": [
        "print(\"Kết quả 3 // 2:\", 3 // 2)"
      ],
      "metadata": {
        "id": "-TTmafsqp92H"
      },
      "execution_count": null,
      "outputs": []
    },
    {
      "cell_type": "markdown",
      "source": [
        "**ví dụ 26**"
      ],
      "metadata": {
        "id": "9XdECha4p_Cb"
      }
    },
    {
      "cell_type": "code",
      "source": [
        "c = \"\"\"\n",
        "This is a longer string that\n",
        "spans multiple lines\n",
        "\"\"\"\n",
        "print(\"Chuỗi c:\", c)"
      ],
      "metadata": {
        "id": "PrRAse2Cp_IV"
      },
      "execution_count": null,
      "outputs": []
    },
    {
      "cell_type": "markdown",
      "source": [
        "**ví dụ 27**"
      ],
      "metadata": {
        "id": "SI5hpneFqDZZ"
      }
    },
    {
      "cell_type": "code",
      "source": [
        "print(\"Số dòng trong chuỗi c:\", c.count(\"\\n\"))"
      ],
      "metadata": {
        "id": "t0VpQPLdqFh1"
      },
      "execution_count": null,
      "outputs": []
    },
    {
      "cell_type": "markdown",
      "source": [
        "**ví dụ 28**"
      ],
      "metadata": {
        "id": "6O9lrZErqIAx"
      }
    },
    {
      "cell_type": "code",
      "source": [
        "a = \"this is a string\"\n",
        "try:\n",
        "    a[10] = \"f\"\n",
        "except TypeError as e:\n",
        "    print(\"Lỗi khi cố gắng sửa chuỗi:\", e)"
      ],
      "metadata": {
        "id": "zU4oFMrFqLUN"
      },
      "execution_count": null,
      "outputs": []
    },
    {
      "cell_type": "markdown",
      "source": [
        "*ví dụ 29*"
      ],
      "metadata": {
        "id": "qNjEy5W_qMgk"
      }
    },
    {
      "cell_type": "code",
      "source": [
        "b = a.replace(\"string\", \"longer string\")\n",
        "print(\"Chuỗi b sau khi thay thế:\", b)"
      ],
      "metadata": {
        "id": "qnT_5KSLqOim"
      },
      "execution_count": null,
      "outputs": []
    },
    {
      "cell_type": "markdown",
      "source": [
        "ví dụ 30"
      ],
      "metadata": {
        "id": "IijMRdR8qQS5"
      }
    },
    {
      "cell_type": "code",
      "source": [
        "print(\"Chuỗi a (gốc):\", a)"
      ],
      "metadata": {
        "id": "-RNYfuSmqTwq"
      },
      "execution_count": null,
      "outputs": []
    },
    {
      "cell_type": "markdown",
      "source": [
        "ví dụ 31"
      ],
      "metadata": {
        "id": "C23l69POqUwH"
      }
    },
    {
      "cell_type": "code",
      "source": [
        "a = 5.6\n",
        "s = str(a)\n",
        "print(\"Chuỗi s từ số 5.6:\", s)"
      ],
      "metadata": {
        "colab": {
          "base_uri": "https://localhost:8080/"
        },
        "id": "gbSp7nUFqVe6",
        "outputId": "21bce2d3-d1ea-4687-b67a-d9099aa9b3f5"
      },
      "execution_count": 22,
      "outputs": [
        {
          "output_type": "stream",
          "name": "stdout",
          "text": [
            "Chuỗi s từ số 5.6: 5.6\n"
          ]
        }
      ]
    },
    {
      "cell_type": "markdown",
      "source": [
        "ví dụ 32"
      ],
      "metadata": {
        "id": "z0BDoS0IqYt2"
      }
    },
    {
      "cell_type": "code",
      "source": [
        "s = \"python\"\n",
        "print(\"Danh sách từ chuỗi s:\", list(s))\n",
        "print(\"Ba ký tự đầu của s:\", s[:3])"
      ],
      "metadata": {
        "id": "7WVwtUmzqaA8"
      },
      "execution_count": null,
      "outputs": []
    },
    {
      "cell_type": "markdown",
      "source": [
        "**ví dụ 33**"
      ],
      "metadata": {
        "id": "iwjvLxw0qf0e"
      }
    },
    {
      "cell_type": "code",
      "source": [
        "s = \"12\\\\34\"\n",
        "print(\"Chuỗi s với dấu \\\\:\", s)"
      ],
      "metadata": {
        "id": "on1j97lFqiVK"
      },
      "execution_count": null,
      "outputs": []
    },
    {
      "cell_type": "markdown",
      "source": [
        "**ví dụ 34**"
      ],
      "metadata": {
        "id": "ZFkd_ORjqi7n"
      }
    },
    {
      "cell_type": "code",
      "source": [
        "s = r\"this\\has\\no\\special\\characters\"\n",
        "print(\"Chuỗi s với raw string:\", s)"
      ],
      "metadata": {
        "colab": {
          "base_uri": "https://localhost:8080/"
        },
        "id": "be5N8Ks_ql4U",
        "outputId": "c60a32ee-25f7-4374-e7b0-0d68f3b4868c"
      },
      "execution_count": 23,
      "outputs": [
        {
          "output_type": "stream",
          "name": "stdout",
          "text": [
            "Chuỗi s với raw string: this\\has\\no\\special\\characters\n"
          ]
        }
      ]
    },
    {
      "cell_type": "markdown",
      "source": [
        "*ví dụ 35*"
      ],
      "metadata": {
        "id": "FV32-zQiqnuG"
      }
    },
    {
      "cell_type": "code",
      "source": [
        "a = \"this is the first half \"\n",
        "b = \"and this is the second half\"\n",
        "print(\"Kết hợp chuỗi a và b:\", a + b)"
      ],
      "metadata": {
        "id": "Wm3GDZTsqo71"
      },
      "execution_count": null,
      "outputs": []
    },
    {
      "cell_type": "markdown",
      "source": [
        "**ví dụ 36**"
      ],
      "metadata": {
        "id": "tBc23eNiqqbg"
      }
    },
    {
      "cell_type": "code",
      "source": [
        "template = \"{0:.2f} {1:s} are worth US${2:d}\"\n",
        "print(\"Đã định nghĩa template:\", template)"
      ],
      "metadata": {
        "id": "GHP82bofqs1Z"
      },
      "execution_count": null,
      "outputs": []
    },
    {
      "cell_type": "markdown",
      "source": [
        "**ví dụ 37**"
      ],
      "metadata": {
        "id": "gDaU_BYbquBe"
      }
    },
    {
      "cell_type": "code",
      "source": [
        "print(\"Kết quả format template:\", template.format(88.46, \"Argentine Pesos\", 1))"
      ],
      "metadata": {
        "id": "weCsK4UDqvii"
      },
      "execution_count": null,
      "outputs": []
    },
    {
      "cell_type": "markdown",
      "source": [
        "**ví dụ 38**"
      ],
      "metadata": {
        "id": "ud8Hzuk3qwBh"
      }
    },
    {
      "cell_type": "code",
      "source": [
        "print(\"Kết quả format template:\", template.format(88.46, \"Argentine Pesos\", 1))"
      ],
      "metadata": {
        "id": "geVUwzv_q0y_"
      },
      "execution_count": null,
      "outputs": []
    },
    {
      "cell_type": "markdown",
      "source": [
        "**ví dụ 39**"
      ],
      "metadata": {
        "id": "h4ibY9PuspMP"
      }
    },
    {
      "cell_type": "code",
      "source": [
        "print(f\"{amount} {currency} is worth US${amount / rate:.2f}\")"
      ],
      "metadata": {
        "id": "sodKwZx7tH22"
      },
      "execution_count": null,
      "outputs": []
    },
    {
      "cell_type": "markdown",
      "source": [
        "**ví dụ 40**"
      ],
      "metadata": {
        "id": "zZOIrJSYtIgV"
      }
    },
    {
      "cell_type": "code",
      "source": [
        "val = \"español\"\n",
        "print(\"Chuỗi val:\", val)"
      ],
      "metadata": {
        "id": "56PbG5aKtJqQ"
      },
      "execution_count": null,
      "outputs": []
    },
    {
      "cell_type": "markdown",
      "source": [
        "**ví dụ 41**"
      ],
      "metadata": {
        "id": "c-Uj6UhitL8I"
      }
    },
    {
      "cell_type": "code",
      "source": [
        "val_utf8 = val.encode(\"utf-8\")\n",
        "print(\"val mã hóa utf-8:\", val_utf8)\n",
        "print(\"Kiểu của val_utf8:\", type(val_utf8))"
      ],
      "metadata": {
        "id": "JqCev0jzt55K"
      },
      "execution_count": null,
      "outputs": []
    },
    {
      "cell_type": "markdown",
      "source": [
        "**ví dụ 42**"
      ],
      "metadata": {
        "id": "JAgDKCqnt66E"
      }
    },
    {
      "cell_type": "code",
      "source": [
        "print(\"Giải mã val_utf8:\", val_utf8.decode(\"utf-8\"))"
      ],
      "metadata": {
        "id": "9JImnB4at8lv"
      },
      "execution_count": null,
      "outputs": []
    },
    {
      "cell_type": "markdown",
      "source": [
        "**ví dụ 43**"
      ],
      "metadata": {
        "id": "5r79n_cTt9Xx"
      }
    },
    {
      "cell_type": "code",
      "source": [
        "print(\"Mã hóa val sang latin1:\", val.encode(\"latin1\"))\n",
        "print(\"Mã hóa val sang utf-16:\", val.encode(\"utf-16\"))\n",
        "print(\"Mã hóa val sang utf-16le:\", val.encode(\"utf-16le\"))"
      ],
      "metadata": {
        "id": "-UbmfKCxt_sJ"
      },
      "execution_count": null,
      "outputs": []
    },
    {
      "cell_type": "markdown",
      "source": [
        "**ví dụ 44**"
      ],
      "metadata": {
        "id": "WG2RM-58uAYX"
      }
    },
    {
      "cell_type": "code",
      "source": [
        "print(\"True and True:\", True and True)\n",
        "print(\"False or True:\", False or True)"
      ],
      "metadata": {
        "id": "ongLeqiGvHd3"
      },
      "execution_count": null,
      "outputs": []
    },
    {
      "cell_type": "markdown",
      "source": [
        "**ví dụ 45**"
      ],
      "metadata": {
        "id": "Ad75BK2-vJWz"
      }
    },
    {
      "cell_type": "code",
      "source": [
        "print(\"int(False):\", int(False))\n",
        "print(\"int(True):\", int(True))"
      ],
      "metadata": {
        "id": "I8HZ79DsvKn0"
      },
      "execution_count": null,
      "outputs": []
    },
    {
      "cell_type": "markdown",
      "source": [
        "**ví dụ 46**"
      ],
      "metadata": {
        "id": "D6EZl_XovLv0"
      }
    },
    {
      "cell_type": "code",
      "source": [
        "a = True\n",
        "b = False\n",
        "print(\"not a:\", not a)\n",
        "print(\"not b:\", not b)"
      ],
      "metadata": {
        "id": "baRXoVyKvOK5"
      },
      "execution_count": null,
      "outputs": []
    },
    {
      "cell_type": "markdown",
      "source": [
        "**ví dụ 47**"
      ],
      "metadata": {
        "id": "nr60auzPvOnA"
      }
    },
    {
      "cell_type": "code",
      "source": [
        "s = \"3.14159\"\n",
        "fval = float(s)\n",
        "print(\"Kiểu của fval:\", type(fval))\n",
        "print(\"int(fval):\", int(fval))\n",
        "print(\"bool(fval):\", bool(fval))\n",
        "print(\"bool(0):\", bool(0))"
      ],
      "metadata": {
        "id": "IJ_IUndjvQ3C"
      },
      "execution_count": null,
      "outputs": []
    },
    {
      "cell_type": "markdown",
      "source": [
        "**ví dụ 48**"
      ],
      "metadata": {
        "id": "hL3ITe0VvRR1"
      }
    },
    {
      "cell_type": "code",
      "source": [
        "a = None\n",
        "print(\"a is None:\", a is None)\n",
        "b = 5\n",
        "print(\"b is not None:\", b is not None)"
      ],
      "metadata": {
        "id": "dWP6DK0gvYWh"
      },
      "execution_count": null,
      "outputs": []
    },
    {
      "cell_type": "markdown",
      "source": [
        "**ví dụ 49**"
      ],
      "metadata": {
        "id": "yQHaGAkUvZXx"
      }
    },
    {
      "cell_type": "code",
      "source": [
        "from datetime import datetime, date, time\n",
        "dt = datetime(2011, 10, 29, 20, 30, 21)\n",
        "print(\"dt.day:\", dt.day)\n",
        "print(\"dt.minute:\", dt.minute)"
      ],
      "metadata": {
        "id": "jXXxpZMjvbCl"
      },
      "execution_count": null,
      "outputs": []
    },
    {
      "cell_type": "markdown",
      "source": [
        "***ví dụ 50***"
      ],
      "metadata": {
        "id": "6eVFCDG9vb7E"
      }
    },
    {
      "cell_type": "code",
      "source": [
        "from datetime import datetime, date, time\n",
        "dt = datetime(2011, 10, 29, 20, 30, 21)\n",
        "print(\"dt.day:\", dt.day)\n",
        "print(\"dt.minute:\", dt.minute)"
      ],
      "metadata": {
        "id": "V3jq0hrYveJQ"
      },
      "execution_count": null,
      "outputs": []
    },
    {
      "cell_type": "markdown",
      "source": [
        "ví dụ 51"
      ],
      "metadata": {
        "id": "VwRZ-yf5vn0Z"
      }
    },
    {
      "cell_type": "code",
      "source": [
        "print(\"dt.strftime('%Y-%m-%d %H:%M'):\", dt.strftime(\"%Y-%m-%d %H:%M\"))"
      ],
      "metadata": {
        "id": "eLP7fRkZvo2X"
      },
      "execution_count": null,
      "outputs": []
    },
    {
      "cell_type": "markdown",
      "source": [
        "ví dụ 52"
      ],
      "metadata": {
        "id": "Yu_9Zj7RvpS0"
      }
    },
    {
      "cell_type": "code",
      "source": [
        "print(\"datetime.strptime('20091031', '%Y%m%d'):\", datetime.strptime(\"20091031\", \"%Y%m%d\"))"
      ],
      "metadata": {
        "id": "2nhRYwfCvsbj"
      },
      "execution_count": null,
      "outputs": []
    },
    {
      "cell_type": "markdown",
      "source": [
        "*ví dụ 53*"
      ],
      "metadata": {
        "id": "7Dfhd4tfvzV-"
      }
    },
    {
      "cell_type": "code",
      "source": [
        "dt_hour = dt.replace(minute=0, second=0)\n",
        "print(\"dt_hour:\", dt_hour)"
      ],
      "metadata": {
        "id": "G6vaVWDav0g1"
      },
      "execution_count": null,
      "outputs": []
    },
    {
      "cell_type": "markdown",
      "source": [
        "**ví dụ 54**"
      ],
      "metadata": {
        "id": "LmKWe3Vpv14W"
      }
    },
    {
      "cell_type": "code",
      "source": [
        "print(\"dt:\", dt)"
      ],
      "metadata": {
        "id": "FTNEO3lTv4dG"
      },
      "execution_count": null,
      "outputs": []
    },
    {
      "cell_type": "markdown",
      "source": [
        "**vi dụ 55**"
      ],
      "metadata": {
        "id": "viYNZGLwv6cC"
      }
    },
    {
      "cell_type": "code",
      "source": [
        "dt2 = datetime(2011, 11, 15, 22, 30)\n",
        "delta = dt2 - dt\n",
        "print(\"delta:\", delta)\n",
        "print(\"Kiểu của delta:\", type(delta))"
      ],
      "metadata": {
        "id": "qSIKWOVhv9fp"
      },
      "execution_count": null,
      "outputs": []
    },
    {
      "cell_type": "markdown",
      "source": [
        "**ví dụ 56**"
      ],
      "metadata": {
        "id": "x9lkrni8v-Di"
      }
    },
    {
      "cell_type": "code",
      "source": [
        "print(\"dt:\", dt)\n",
        "print(\"dt + delta:\", dt + delta)"
      ],
      "metadata": {
        "id": "EEXT5CQ9v_oD"
      },
      "execution_count": null,
      "outputs": []
    },
    {
      "cell_type": "markdown",
      "source": [
        "**ví dụ 57**"
      ],
      "metadata": {
        "id": "KtnIR_O_wAQv"
      }
    },
    {
      "cell_type": "code",
      "source": [
        "a = 5; b = 7\n",
        "c = 8; d = 4\n",
        "if a < b or c > d:\n",
        "    print(\"Điều kiện đúng: Made it\")"
      ],
      "metadata": {
        "id": "xPdqsELBwDGd"
      },
      "execution_count": null,
      "outputs": []
    },
    {
      "cell_type": "markdown",
      "source": [
        "***ví dụ 58***"
      ],
      "metadata": {
        "id": "3RTeNY0bwERP"
      }
    },
    {
      "cell_type": "code",
      "source": [
        "print(\"Kiểm tra 4 > 3 > 2 > 1:\", 4 > 3 > 2 > 1)"
      ],
      "metadata": {
        "id": "LjLp5KZQwFl-"
      },
      "execution_count": null,
      "outputs": []
    },
    {
      "cell_type": "markdown",
      "source": [
        "**ví dụ 59**"
      ],
      "metadata": {
        "id": "64x0olh-wGWS"
      }
    },
    {
      "cell_type": "code",
      "source": [
        "for i in range(4):\n",
        "    for j in range(4):\n",
        "        if j > i:\n",
        "            break\n",
        "        print((i, j))"
      ],
      "metadata": {
        "id": "DHCNEXwIwIQE"
      },
      "execution_count": null,
      "outputs": []
    },
    {
      "cell_type": "markdown",
      "source": [
        "**ví dụ 60**"
      ],
      "metadata": {
        "id": "E4uigJm3wrmX"
      }
    },
    {
      "cell_type": "code",
      "source": [
        "print(\"range(10):\", range(10))\n",
        "print(\"list(range(10)):\", list(range(10)))"
      ],
      "metadata": {
        "id": "Ci8PYz9wwuAy"
      },
      "execution_count": null,
      "outputs": []
    },
    {
      "cell_type": "markdown",
      "source": [
        "**ví dụ 61**"
      ],
      "metadata": {
        "id": "JWQO5fnrxBcH"
      }
    },
    {
      "cell_type": "code",
      "source": [
        "print(\"list(range(0, 20, 2)):\", list(range(0, 20, 2)))\n",
        "print(\"list(range(5, 0, -1)):\", list(range(5, 0, -1)))"
      ],
      "metadata": {
        "id": "o1UdkOATxDPW"
      },
      "execution_count": null,
      "outputs": []
    },
    {
      "cell_type": "markdown",
      "source": [
        "**ví dụ 62**"
      ],
      "metadata": {
        "id": "GnI3PxHTzY7V"
      }
    },
    {
      "cell_type": "code",
      "source": [
        "total = 0\n",
        "for i in range(100_000):\n",
        "    if i % 3 == 0 or i % 5 == 0:\n",
        "        total += i\n",
        "print(\"Tổng các số chia hết cho 3 hoặc 5:\", total)"
      ],
      "metadata": {
        "id": "HksgVokvzfbm"
      },
      "execution_count": null,
      "outputs": []
    },
    {
      "cell_type": "markdown",
      "source": [
        "#**ch03.ipynb**"
      ],
      "metadata": {
        "id": "E5J4hHDe7mR4"
      }
    },
    {
      "cell_type": "markdown",
      "source": [
        "**ví dụ 1**"
      ],
      "metadata": {
        "id": "qJiLeGwS71pz"
      }
    },
    {
      "cell_type": "code",
      "source": [
        "tup = (4, 5, 6)\n",
        "print(\"Tuple tup:\", tup)"
      ],
      "metadata": {
        "id": "ZoPKsIIo727n"
      },
      "execution_count": null,
      "outputs": []
    },
    {
      "cell_type": "markdown",
      "source": [
        "**ví dụ 2**"
      ],
      "metadata": {
        "id": "Ckloi5A18AHZ"
      }
    },
    {
      "cell_type": "code",
      "source": [
        "tup = 4, 5, 6\n",
        "print(\"Tuple tup (không dấu ngoặc):\", tup)"
      ],
      "metadata": {
        "id": "_MZBL_Yp8QF-"
      },
      "execution_count": null,
      "outputs": []
    },
    {
      "cell_type": "markdown",
      "source": [
        "**ví dụ 3**"
      ],
      "metadata": {
        "id": "Fp_UexGG8T8f"
      }
    },
    {
      "cell_type": "code",
      "source": [
        "print(\"Chuyển list [4, 0, 2] thành tuple:\", tuple([4, 0, 2]))\n",
        "tup = tuple('string')\n",
        "print(\"Tuple từ chuỗi 'string':\", tup)"
      ],
      "metadata": {
        "id": "7uYZJEY58WYP"
      },
      "execution_count": null,
      "outputs": []
    },
    {
      "cell_type": "markdown",
      "source": [
        "**ví dụ 4**"
      ],
      "metadata": {
        "id": "aP7JeVZg8XCc"
      }
    },
    {
      "cell_type": "code",
      "source": [
        "print(\"Phần tử đầu tiên của tup:\", tup[0])"
      ],
      "metadata": {
        "id": "y738sf7P8bow"
      },
      "execution_count": null,
      "outputs": []
    },
    {
      "cell_type": "markdown",
      "source": [
        "**ví dụ 5**"
      ],
      "metadata": {
        "id": "tEkr0o7h8cDL"
      }
    },
    {
      "cell_type": "code",
      "source": [
        "nested_tup = (4, 5, 6), (7, 8)\n",
        "print(\"Tuple lồng nhau:\", nested_tup)\n",
        "print(\"Phần tử đầu tiên của nested_tup:\", nested_tup[0])\n",
        "print(\"Phần tử thứ hai của nested_tup:\", nested_tup[1])"
      ],
      "metadata": {
        "id": "D371W0NS8eel"
      },
      "execution_count": null,
      "outputs": []
    },
    {
      "cell_type": "markdown",
      "source": [
        "**ví dụ 6**"
      ],
      "metadata": {
        "id": "ld2SIAqq8gIT"
      }
    },
    {
      "cell_type": "code",
      "source": [
        "tup = tuple(['foo', [1, 2], True])\n",
        "try:\n",
        "    tup[2] = False\n",
        "except TypeError as e:\n",
        "    print(\"Lỗi khi cố gắng sửa tuple:\", e)"
      ],
      "metadata": {
        "id": "LReVhq0_8kpS"
      },
      "execution_count": null,
      "outputs": []
    },
    {
      "cell_type": "markdown",
      "source": [
        "**ví dụ 7**"
      ],
      "metadata": {
        "id": "Qf3YAa9y8nBt"
      }
    },
    {
      "cell_type": "code",
      "source": [
        "tup[1].append(3)\n",
        "print(\"Tuple sau khi thêm 3 vào danh sách bên trong:\", tup)"
      ],
      "metadata": {
        "id": "9M8DuWx18qhY"
      },
      "execution_count": null,
      "outputs": []
    },
    {
      "cell_type": "markdown",
      "source": [
        "**ví dụ 8**"
      ],
      "metadata": {
        "id": "_oWgUxSa8sW1"
      }
    },
    {
      "cell_type": "code",
      "source": [
        "print(\"Kết hợp tuple:\", (4, None, 'foo') + (6, 0) + ('bar',))"
      ],
      "metadata": {
        "id": "3PdgEo8j8uz4"
      },
      "execution_count": null,
      "outputs": []
    },
    {
      "cell_type": "markdown",
      "source": [
        "**ví dụ 9**"
      ],
      "metadata": {
        "id": "6nohjY-p8wIm"
      }
    },
    {
      "cell_type": "code",
      "source": [
        "print(\"Nhân tuple:\", ('foo', 'bar') * 4)"
      ],
      "metadata": {
        "colab": {
          "base_uri": "https://localhost:8080/"
        },
        "id": "YBLD1Kzu8yWT",
        "outputId": "d26cdf92-6dc6-4238-fb9f-20a0b9b72258"
      },
      "execution_count": 24,
      "outputs": [
        {
          "output_type": "stream",
          "name": "stdout",
          "text": [
            "Nhân tuple: ('foo', 'bar', 'foo', 'bar', 'foo', 'bar', 'foo', 'bar')\n"
          ]
        }
      ]
    },
    {
      "cell_type": "markdown",
      "source": [
        "**ví dụ 10**"
      ],
      "metadata": {
        "id": "aVSyFSPu86RA"
      }
    },
    {
      "cell_type": "code",
      "source": [
        "tup = (4, 5, 6)\n",
        "a, b, c = tup\n",
        "print(\"Giá trị của b sau khi unpack:\", b)"
      ],
      "metadata": {
        "id": "uTxnnqs_88Vj"
      },
      "execution_count": null,
      "outputs": []
    },
    {
      "cell_type": "markdown",
      "source": [
        "**ví dụ 11**"
      ],
      "metadata": {
        "id": "-stD4jU089Dg"
      }
    },
    {
      "cell_type": "code",
      "source": [
        "tup = 4, 5, (6, 7)\n",
        "a, b, (c, d) = tup\n",
        "print(\"Giá trị của d sau khi unpack:\", d)"
      ],
      "metadata": {
        "id": "tNKZYQre9Abz"
      },
      "execution_count": null,
      "outputs": []
    },
    {
      "cell_type": "markdown",
      "source": [
        "**ví dụ 12**"
      ],
      "metadata": {
        "id": "Y8Xe-0NH9A03"
      }
    },
    {
      "cell_type": "code",
      "source": [
        "a, b = 1, 2\n",
        "print(\"Trước khi hoán đổi: a =\", a, \", b =\", b)\n",
        "b, a = a, b\n",
        "print(\"Sau khi hoán đổi: a =\", a, \", b =\", b)"
      ],
      "metadata": {
        "id": "1u3I1XtR9HAr"
      },
      "execution_count": null,
      "outputs": []
    },
    {
      "cell_type": "markdown",
      "source": [
        "***ví dụ 13***"
      ],
      "metadata": {
        "id": "kRXdY33k9J3l"
      }
    },
    {
      "cell_type": "code",
      "source": [
        "seq = [(1, 2, 3), (4, 5, 6), (7, 8, 9)]\n",
        "for a, b, c in seq:\n",
        "    print(f'a={a}, b={b}, c={c}')"
      ],
      "metadata": {
        "id": "ceA2vafH9Omd"
      },
      "execution_count": null,
      "outputs": []
    },
    {
      "cell_type": "markdown",
      "source": [
        "**ví dụ 14**"
      ],
      "metadata": {
        "id": "mC5nFROL9PTg"
      }
    },
    {
      "cell_type": "code",
      "source": [
        "values = 1, 2, 3, 4, 5\n",
        "a, b, *rest = values\n",
        "print(\"a sau khi unpack:\", a)\n",
        "print(\"b sau khi unpack:\", b)\n",
        "print(\"rest sau khi unpack:\", rest)"
      ],
      "metadata": {
        "id": "PFPLK8UA9TGL"
      },
      "execution_count": null,
      "outputs": []
    },
    {
      "cell_type": "markdown",
      "source": [
        "***ví dụ 15***"
      ],
      "metadata": {
        "id": "KmS0Fo6t9UxG"
      }
    },
    {
      "cell_type": "code",
      "source": [
        "a, b, *_ = values\n",
        "print(\"a sau khi unpack với _:\", a)\n",
        "print(\"b sau khi unpack với _:\", b)"
      ],
      "metadata": {
        "id": "Rw6jJKpA9WjT"
      },
      "execution_count": null,
      "outputs": []
    },
    {
      "cell_type": "markdown",
      "source": [
        "**ví dụ 16**"
      ],
      "metadata": {
        "id": "G5nCwFGZ9ZG8"
      }
    },
    {
      "cell_type": "code",
      "source": [
        "a = (1, 2, 2, 2, 3, 4, 2)\n",
        "print(\"Số lần xuất hiện của 2 trong tuple a:\", a.count(2))"
      ],
      "metadata": {
        "id": "x4_ICCfo9b-p"
      },
      "execution_count": null,
      "outputs": []
    },
    {
      "cell_type": "markdown",
      "source": [
        "**ví dụ 17**"
      ],
      "metadata": {
        "id": "HjviF_3O9eNO"
      }
    },
    {
      "cell_type": "code",
      "source": [
        "a_list = [2, 3, 7, None]\n",
        "tup = (\"foo\", \"bar\", \"baz\")\n",
        "b_list = list(tup)\n",
        "print(\"Chuyển tuple thành list:\", b_list)\n",
        "b_list[1] = \"peekaboo\"\n",
        "print(\"b_list sau khi thay đổi:\", b_list)"
      ],
      "metadata": {
        "id": "NGCd_tvb9fZn"
      },
      "execution_count": null,
      "outputs": []
    },
    {
      "cell_type": "markdown",
      "source": [
        "**ví dụ 18**"
      ],
      "metadata": {
        "id": "rX4AOFhn9gzK"
      }
    },
    {
      "cell_type": "code",
      "source": [
        "gen = range(10)\n",
        "print(\"Generator range(10):\", gen)\n",
        "print(\"List từ generator:\", list(gen))"
      ],
      "metadata": {
        "id": "ZfFVJ9Ut9k-B"
      },
      "execution_count": null,
      "outputs": []
    },
    {
      "cell_type": "markdown",
      "source": [
        "**ví dụ 19**"
      ],
      "metadata": {
        "id": "QEZUrVVI9lgd"
      }
    },
    {
      "cell_type": "code",
      "source": [
        "try:\n",
        "    path = \"example.txt\"  # Giả định file tồn tại\n",
        "    f = open(path, encoding='utf-8')\n",
        "    print(\"Đọc 5 ký tự đầu:\", f.read(5))\n",
        "    f.seek(4)\n",
        "    print(\"Đọc 1 ký tự từ vị trí 4:\", f.read(1))\n",
        "    f.close()\n",
        "except FileNotFoundError as e:\n",
        "    print(\"Lỗi khi mở file:\", e)"
      ],
      "metadata": {
        "id": "3ToJFgVZ9rpr"
      },
      "execution_count": null,
      "outputs": []
    }
  ],
  "metadata": {
    "kernelspec": {
      "display_name": "Python 3",
      "language": "python",
      "name": "python3"
    },
    "language_info": {
      "codemirror_mode": {
        "name": "ipython",
        "version": 3
      },
      "file_extension": ".py",
      "mimetype": "text/x-python",
      "name": "python",
      "nbconvert_exporter": "python",
      "pygments_lexer": "ipython3",
      "version": "3.7.6"
    },
    "colab": {
      "provenance": []
    }
  },
  "nbformat": 4,
  "nbformat_minor": 0
}