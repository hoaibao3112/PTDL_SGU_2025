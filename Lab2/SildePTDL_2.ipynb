{
  "nbformat": 4,
  "nbformat_minor": 0,
  "metadata": {
    "colab": {
      "provenance": [],
      "toc_visible": true
    },
    "kernelspec": {
      "name": "python3",
      "display_name": "Python 3"
    },
    "language_info": {
      "name": "python"
    }
  },
  "cells": [
    {
      "cell_type": "markdown",
      "source": [
        "# Buổi 2 đề mô\n",
        "\n"
      ],
      "metadata": {
        "id": "S5_capKzhtYt"
      }
    },
    {
      "cell_type": "markdown",
      "source": [
        "**Python Programming**"
      ],
      "metadata": {
        "id": "fvlUSJwanbeR"
      }
    },
    {
      "cell_type": "markdown",
      "source": [
        "**Buổi 2 đề mô**"
      ],
      "metadata": {
        "id": "WTCu97c2mi8P"
      }
    },
    {
      "cell_type": "code",
      "source": [
        "import numpy as np\n",
        "import pandas as pd\n",
        "import matplotlib.pyplot as plt\n"
      ],
      "metadata": {
        "id": "wouu-btSkkpy"
      },
      "execution_count": 391,
      "outputs": []
    },
    {
      "cell_type": "markdown",
      "source": [
        " **Python Hello World**"
      ],
      "metadata": {
        "id": "eUtRYGTAj_2z"
      }
    },
    {
      "cell_type": "code",
      "source": [
        "print(\"Hello World\")"
      ],
      "metadata": {
        "colab": {
          "base_uri": "https://localhost:8080/"
        },
        "id": "vYJa41BZkH_-",
        "outputId": "bca3790f-9253-4dec-aa57-78f69bf6b282"
      },
      "execution_count": 392,
      "outputs": [
        {
          "output_type": "stream",
          "name": "stdout",
          "text": [
            "Hello World\n"
          ]
        }
      ]
    },
    {
      "cell_type": "markdown",
      "source": [
        "**Python Syntax**"
      ],
      "metadata": {
        "id": "JSD3zPjRkxfs"
      }
    },
    {
      "cell_type": "code",
      "source": [
        "# comment"
      ],
      "metadata": {
        "id": "paDGQV1kk5en"
      },
      "execution_count": 393,
      "outputs": []
    },
    {
      "cell_type": "markdown",
      "source": [
        "**Indentation**\n",
        "\n",
        "**the spaces at the beginning of a code line**\n",
        "\n",
        "**4 spaces**"
      ],
      "metadata": {
        "id": "S9vH3buxlHii"
      }
    },
    {
      "cell_type": "code",
      "source": [
        "score = 80\n",
        "\n",
        "if score >= 60:\n",
        "    print(\"Pass\")\n",
        "else:\n",
        "    print(\"Fail\")\n"
      ],
      "metadata": {
        "colab": {
          "base_uri": "https://localhost:8080/"
        },
        "id": "Nu8D3SqMlbMH",
        "outputId": "e030af96-16c6-43fc-ba6a-fee3a011e119"
      },
      "execution_count": 394,
      "outputs": [
        {
          "output_type": "stream",
          "name": "stdout",
          "text": [
            "Pass\n"
          ]
        }
      ]
    },
    {
      "cell_type": "markdown",
      "source": [
        "**Python Variables**"
      ],
      "metadata": {
        "id": "h9gBc4q2nq_n"
      }
    },
    {
      "cell_type": "code",
      "source": [
        "# Python Variables\n",
        "x = 2\n",
        "price = 2.5\n",
        "word1 = 'Hello'\n",
        "word2 = \"Hello\"\n",
        "word3 = '''Hello'''\n",
        "print(x, price, word1, word2, word3)\n"
      ],
      "metadata": {
        "colab": {
          "base_uri": "https://localhost:8080/"
        },
        "id": "z_5niBHkp5te",
        "outputId": "8c59a04c-2663-4d3f-97ac-3f5d342d3ae0"
      },
      "execution_count": 395,
      "outputs": [
        {
          "output_type": "stream",
          "name": "stdout",
          "text": [
            "2 2.5 Hello Hello Hello\n"
          ]
        }
      ]
    },
    {
      "cell_type": "code",
      "source": [],
      "metadata": {
        "id": "POPtBKgRwBoe"
      },
      "execution_count": 395,
      "outputs": []
    },
    {
      "cell_type": "markdown",
      "source": [
        "**TOÁN TỬ CỘNG **"
      ],
      "metadata": {
        "id": "u0Y14AP5qU1a"
      }
    },
    {
      "cell_type": "code",
      "source": [
        "x = 2\n",
        "y = x + 1\n",
        "print(\"Giá trị của x:\", x)\n",
        "print(\"Giá trị của y:\", y)\n"
      ],
      "metadata": {
        "colab": {
          "base_uri": "https://localhost:8080/"
        },
        "id": "tDryVYCZqdRj",
        "outputId": "36d29410-7448-41a9-e02e-70c56c67bafe"
      },
      "execution_count": 396,
      "outputs": [
        {
          "output_type": "stream",
          "name": "stdout",
          "text": [
            "Giá trị của x: 2\n",
            "Giá trị của y: 3\n"
          ]
        }
      ]
    },
    {
      "cell_type": "markdown",
      "source": [
        "**alias**"
      ],
      "metadata": {
        "id": "rPod11PyqzvD"
      }
    },
    {
      "cell_type": "code",
      "source": [
        "# comment\n",
        "from platform import python_version\n",
        "print(\"Python Version:\", python_version())"
      ],
      "metadata": {
        "colab": {
          "base_uri": "https://localhost:8080/"
        },
        "id": "8OhEtrfGq0Y7",
        "outputId": "3a85ea04-169f-48a4-8804-ad1bc5aa3c56"
      },
      "execution_count": 397,
      "outputs": [
        {
          "output_type": "stream",
          "name": "stdout",
          "text": [
            "Python Version: 3.12.11\n"
          ]
        }
      ]
    },
    {
      "cell_type": "markdown",
      "source": [
        "***variable name***"
      ],
      "metadata": {
        "id": "ulhFGMUzrHb6"
      }
    },
    {
      "cell_type": "code",
      "source": [
        "x = \"Hello World\"  # str\n",
        "print(\"Giá trị:\", x, \"| Kiểu dữ liệu:\", type(x))\n",
        "x = 2  # int\n",
        "print(\"Giá trị:\", x, \"| Kiểu dữ liệu:\", type(x))\n",
        "x = 2.5  # float\n",
        "print(\"Giá trị:\", x, \"| Kiểu dữ liệu:\", type(x))\n",
        "x = 7j  # complex\n",
        "print(\"Giá trị:\", x, \"| Kiểu dữ liệu:\", type(x))\n"
      ],
      "metadata": {
        "colab": {
          "base_uri": "https://localhost:8080/"
        },
        "id": "BPDvq2vKrH0u",
        "outputId": "a78b1feb-b594-4dfe-ddd6-9d8ecc955653"
      },
      "execution_count": 398,
      "outputs": [
        {
          "output_type": "stream",
          "name": "stdout",
          "text": [
            "Giá trị: Hello World | Kiểu dữ liệu: <class 'str'>\n",
            "Giá trị: 2 | Kiểu dữ liệu: <class 'int'>\n",
            "Giá trị: 2.5 | Kiểu dữ liệu: <class 'float'>\n",
            "Giá trị: 7j | Kiểu dữ liệu: <class 'complex'>\n"
          ]
        }
      ]
    },
    {
      "cell_type": "markdown",
      "source": [
        "**Kiểu Dữ Liệu **"
      ],
      "metadata": {
        "id": "Oh3wxAhCri_X"
      }
    },
    {
      "cell_type": "code",
      "source": [
        "x = [\"apple\", \"banana\", \"cherry\"]  # list\n",
        "print(\"Giá trị:\", x, \"| Kiểu dữ liệu:\", type(x))\n",
        "\n",
        "x = (\"apple\", \"banana\", \"cherry\")  # tuple\n",
        "print(\"Giá trị:\", x, \"| Kiểu dữ liệu:\", type(x))\n",
        "\n",
        "x = range(6)  # range\n",
        "print(\"Giá trị:\", list(x), \"| Kiểu dữ liệu:\", type(x))  # đổi thành list để nhìn rõ\n",
        "\n",
        "x = {\"name\": \"Tom\", \"age\": 20}  # dict\n",
        "print(\"Giá trị:\", x, \"| Kiểu dữ liệu:\", type(x))\n",
        "\n",
        "x = {\"apple\", \"banana\", \"cherry\"}  # set\n",
        "print(\"Giá trị:\", x, \"| Kiểu dữ liệu:\", type(x))\n",
        "\n",
        "x = frozenset({\"apple\", \"banana\", \"cherry\"})  # frozenset\n",
        "print(\"Giá trị:\", x, \"| Kiểu dữ liệu:\", type(x))\n",
        "#frozenset\n"
      ],
      "metadata": {
        "colab": {
          "base_uri": "https://localhost:8080/"
        },
        "id": "-Bj4k6KXrjSH",
        "outputId": "babf6de0-0996-4203-a2cc-1b64e4ac1c17"
      },
      "execution_count": 399,
      "outputs": [
        {
          "output_type": "stream",
          "name": "stdout",
          "text": [
            "Giá trị: ['apple', 'banana', 'cherry'] | Kiểu dữ liệu: <class 'list'>\n",
            "Giá trị: ('apple', 'banana', 'cherry') | Kiểu dữ liệu: <class 'tuple'>\n",
            "Giá trị: [0, 1, 2, 3, 4, 5] | Kiểu dữ liệu: <class 'range'>\n",
            "Giá trị: {'name': 'Tom', 'age': 20} | Kiểu dữ liệu: <class 'dict'>\n",
            "Giá trị: {'apple', 'cherry', 'banana'} | Kiểu dữ liệu: <class 'set'>\n",
            "Giá trị: frozenset({'apple', 'cherry', 'banana'}) | Kiểu dữ liệu: <class 'frozenset'>\n"
          ]
        }
      ]
    },
    {
      "cell_type": "markdown",
      "source": [
        "**datatypes**"
      ],
      "metadata": {
        "id": "hH_DXP2msFoJ"
      }
    },
    {
      "cell_type": "code",
      "source": [
        "x = True  # bool\n",
        "print(\"Giá trị:\", x, \"| Kiểu dữ liệu:\", type(x))\n",
        "\n",
        "x = b\"Hello\"  # bytes\n",
        "print(\"Giá trị:\", x, \"| Kiểu dữ liệu:\", type(x))\n",
        "\n",
        "x = bytearray(5)  # bytearray\n",
        "print(\"Giá trị:\", x, \"| Kiểu dữ liệu:\", type(x))\n",
        "\n",
        "x = memoryview(bytes(5))  # memoryview\n",
        "print(\"Giá trị:\", x, \"| Kiểu dữ liệu:\", type(x))\n",
        "\n",
        "x = None  # NoneType\n",
        "print(\"Giá trị:\", x, \"| Kiểu dữ liệu:\", type(x))\n"
      ],
      "metadata": {
        "colab": {
          "base_uri": "https://localhost:8080/"
        },
        "id": "Kp6a9YRcsF00",
        "outputId": "a88541f1-eac5-4c9d-f856-c55fa11815e9"
      },
      "execution_count": 400,
      "outputs": [
        {
          "output_type": "stream",
          "name": "stdout",
          "text": [
            "Giá trị: True | Kiểu dữ liệu: <class 'bool'>\n",
            "Giá trị: b'Hello' | Kiểu dữ liệu: <class 'bytes'>\n",
            "Giá trị: bytearray(b'\\x00\\x00\\x00\\x00\\x00') | Kiểu dữ liệu: <class 'bytearray'>\n",
            "Giá trị: <memory at 0x7e07de719c00> | Kiểu dữ liệu: <class 'memoryview'>\n",
            "Giá trị: None | Kiểu dữ liệu: <class 'NoneType'>\n"
          ]
        }
      ]
    },
    {
      "cell_type": "markdown",
      "source": [
        "**hàm in ra type**"
      ],
      "metadata": {
        "id": "cdhe1XwTsrLf"
      }
    },
    {
      "cell_type": "code",
      "source": [
        "x = str(3)    # x will be '3'\n",
        "y = int(3)    # y will be 3\n",
        "z = float(3)  # z will be 3.0\n",
        "\n",
        "print(x, type(x))\n",
        "print(y, type(y))\n",
        "print(z, type(z))\n"
      ],
      "metadata": {
        "colab": {
          "base_uri": "https://localhost:8080/"
        },
        "id": "H7YDx6iNtnZP",
        "outputId": "27bb1c7d-6a0a-4bda-afeb-5d6bd4677296"
      },
      "execution_count": 401,
      "outputs": [
        {
          "output_type": "stream",
          "name": "stdout",
          "text": [
            "3 <class 'str'>\n",
            "3 <class 'int'>\n",
            "3.0 <class 'float'>\n"
          ]
        }
      ]
    },
    {
      "cell_type": "markdown",
      "source": [
        "**number_types**"
      ],
      "metadata": {
        "id": "jhbztGPyxFqZ"
      }
    },
    {
      "cell_type": "code",
      "source": [
        "x = 2   # int\n",
        "y = 3.4 # float\n",
        "z = 7j  # complex\n",
        "\n",
        "print(x, type(x))\n",
        "print(y, type(y))\n",
        "print(z, type(z))\n"
      ],
      "metadata": {
        "colab": {
          "base_uri": "https://localhost:8080/"
        },
        "id": "2tOrJ26NxGEM",
        "outputId": "4cacca6a-3b98-43d4-c92c-fb19ad7ed7e3"
      },
      "execution_count": 402,
      "outputs": [
        {
          "output_type": "stream",
          "name": "stdout",
          "text": [
            "2 <class 'int'>\n",
            "3.4 <class 'float'>\n",
            "7j <class 'complex'>\n"
          ]
        }
      ]
    },
    {
      "cell_type": "markdown",
      "source": [
        "**arithmetic_operators**"
      ],
      "metadata": {
        "id": "U6R2RojNxW24"
      }
    },
    {
      "cell_type": "code",
      "source": [
        "# Các toán tử số học trong Python\n",
        "\n",
        "print(\"7 + 2  =\", 7 + 2)   # Addition\n",
        "print(\"7 - 2  =\", 7 - 2)   # Subtraction\n",
        "print(\"7 * 2  =\", 7 * 2)   # Multiplication\n",
        "print(\"7 / 2  =\", 7 / 2)   # Division\n",
        "print(\"7 // 2 =\", 7 // 2)  # Floor division (Quotient)\n",
        "print(\"7 % 2  =\", 7 % 2)   # Modulus (Remainder)\n",
        "print(\"7 ** 2 =\", 7 ** 2)  # Exponentiation\n"
      ],
      "metadata": {
        "colab": {
          "base_uri": "https://localhost:8080/"
        },
        "id": "PySylyKtxXF0",
        "outputId": "d60560ea-462c-4839-fb91-498c9e18011d"
      },
      "execution_count": 403,
      "outputs": [
        {
          "output_type": "stream",
          "name": "stdout",
          "text": [
            "7 + 2  = 9\n",
            "7 - 2  = 5\n",
            "7 * 2  = 14\n",
            "7 / 2  = 3.5\n",
            "7 // 2 = 3\n",
            "7 % 2  = 1\n",
            "7 ** 2 = 49\n"
          ]
        }
      ]
    },
    {
      "cell_type": "markdown",
      "source": [
        "**math_operations**"
      ],
      "metadata": {
        "id": "k_2F_Pb4xye8"
      }
    },
    {
      "cell_type": "code",
      "source": [
        "print('7 + 2 =', 7 + 2)\n",
        "print('7 - 2 =', 7 - 2)\n",
        "print('7 * 2 =', 7 * 2)\n",
        "print('7 / 2 =', 7 / 2)\n",
        "print('7 // 2 =', 7 // 2)\n",
        "print('7 % 2 =', 7 % 2)\n",
        "print('7 ** 2 =', 7 ** 2)\n"
      ],
      "metadata": {
        "colab": {
          "base_uri": "https://localhost:8080/"
        },
        "id": "o4ZG-6SUxyoB",
        "outputId": "98a6dadf-28af-415c-a797-bd4c7b118b17"
      },
      "execution_count": 404,
      "outputs": [
        {
          "output_type": "stream",
          "name": "stdout",
          "text": [
            "7 + 2 = 9\n",
            "7 - 2 = 5\n",
            "7 * 2 = 14\n",
            "7 / 2 = 3.5\n",
            "7 // 2 = 3\n",
            "7 % 2 = 1\n",
            "7 ** 2 = 49\n"
          ]
        }
      ]
    },
    {
      "cell_type": "markdown",
      "source": [
        "**boolean_examples**"
      ],
      "metadata": {
        "id": "o4fIA4wRx6oy"
      }
    },
    {
      "cell_type": "code",
      "source": [
        "# Python Booleans: True or False\n",
        "print(3 > 2)   # so sánh lớn hơn\n",
        "print(3 == 2)  # so sánh bằng\n",
        "print(3 < 2)   # so sánh nhỏ hơn\n"
      ],
      "metadata": {
        "colab": {
          "base_uri": "https://localhost:8080/"
        },
        "id": "pWzwj-Dfx6zC",
        "outputId": "3d23f114-b9b8-43aa-a526-b4c2f7f7ab9d"
      },
      "execution_count": 405,
      "outputs": [
        {
          "output_type": "stream",
          "name": "stdout",
          "text": [
            "True\n",
            "False\n",
            "False\n"
          ]
        }
      ]
    },
    {
      "cell_type": "markdown",
      "source": [],
      "metadata": {
        "id": "5tVyKOs1yNio"
      }
    },
    {
      "cell_type": "code",
      "source": [
        "# BMI Calculator with error handling\n",
        "\n",
        "try:\n",
        "    height_cm = 170\n",
        "    weight_kg = 60\n",
        "    height_m = height_cm / 100\n",
        "\n",
        "    # Viết đúng tên biến\n",
        "    BMI = weight_kg / (height_m ** 2)\n",
        "\n",
        "    print(\"Your BMI is: \" + str(round(BMI, 1)))\n",
        "\n",
        "except Exception as e:\n",
        "    print(\"Có lỗi xảy ra:\", e)\n"
      ],
      "metadata": {
        "colab": {
          "base_uri": "https://localhost:8080/"
        },
        "id": "vr02E1tiyNq3",
        "outputId": "72e4461f-2e5d-40ba-a273-c44fdff47cff"
      },
      "execution_count": 406,
      "outputs": [
        {
          "output_type": "stream",
          "name": "stdout",
          "text": [
            "Your BMI is: 20.8\n"
          ]
        }
      ]
    },
    {
      "cell_type": "markdown",
      "source": [
        "**investment_growth**"
      ],
      "metadata": {
        "id": "F-WSOP10ywEE"
      }
    },
    {
      "cell_type": "markdown",
      "source": [
        "**fv_100usd_7years**"
      ],
      "metadata": {
        "id": "wQGb4EYhy3L8"
      }
    },
    {
      "cell_type": "code",
      "source": [],
      "metadata": {
        "id": "NiTnZNLSy3Uq"
      },
      "execution_count": 406,
      "outputs": []
    },
    {
      "cell_type": "code",
      "source": [
        "# How much is your $100 worth after 7 years?\n",
        "fv = 100 * 1.1 ** 7\n",
        "print('fv = ', round(fv, 2))\n",
        "# output = 194.87"
      ],
      "metadata": {
        "colab": {
          "base_uri": "https://localhost:8080/"
        },
        "id": "nwRjyPouywRd",
        "outputId": "2fb1be47-ae7c-4fac-a246-e5bd77843e18"
      },
      "execution_count": 407,
      "outputs": [
        {
          "output_type": "stream",
          "name": "stdout",
          "text": [
            "fv =  194.87\n"
          ]
        }
      ]
    },
    {
      "cell_type": "markdown",
      "source": [
        "**future_value**"
      ],
      "metadata": {
        "id": "AbmlFnmYy9B4"
      }
    },
    {
      "cell_type": "code",
      "source": [
        "# Future Value\n",
        "pv = 100\n",
        "r = 0.1\n",
        "n = 7\n",
        "fv = pv * ((1 + (r)) ** n)\n",
        "print(round(fv, 2))"
      ],
      "metadata": {
        "colab": {
          "base_uri": "https://localhost:8080/"
        },
        "id": "HbFfU5Viy9Nt",
        "outputId": "eb09afec-87b5-44b6-eb14-22b3a0d1dd26"
      },
      "execution_count": 408,
      "outputs": [
        {
          "output_type": "stream",
          "name": "stdout",
          "text": [
            "194.87\n"
          ]
        }
      ]
    },
    {
      "cell_type": "markdown",
      "source": [
        "**Future Value Calculator**"
      ],
      "metadata": {
        "id": "qnGEO1E6zbLD"
      }
    },
    {
      "cell_type": "markdown",
      "source": [],
      "metadata": {
        "id": "YHHR_g0fzy4C"
      }
    },
    {
      "cell_type": "code",
      "source": [
        "# Python Collections Examples\n",
        "\n",
        "# list\n",
        "x = [\"apple\", \"banana\", \"cherry\"]\n",
        "print(\"List:\", x, type(x))\n",
        "\n",
        "# tuple\n",
        "x = (\"apple\", \"banana\", \"cherry\")\n",
        "print(\"Tuple:\", x, type(x))\n",
        "\n",
        "# dict\n",
        "x = {\"name\": \"Tom\", \"age\": 20}\n",
        "print(\"Dict:\", x, type(x))\n",
        "\n",
        "# set\n",
        "x = {\"apple\", \"banana\", \"cherry\"}\n",
        "print(\"Set:\", x, type(x))\n"
      ],
      "metadata": {
        "colab": {
          "base_uri": "https://localhost:8080/"
        },
        "id": "d_Xgii4SzzF0",
        "outputId": "31ebaf38-e272-4aef-d7e6-d74df9fb4e01"
      },
      "execution_count": 409,
      "outputs": [
        {
          "output_type": "stream",
          "name": "stdout",
          "text": [
            "List: ['apple', 'banana', 'cherry'] <class 'list'>\n",
            "Tuple: ('apple', 'banana', 'cherry') <class 'tuple'>\n",
            "Dict: {'name': 'Tom', 'age': 20} <class 'dict'>\n",
            "Set: {'apple', 'cherry', 'banana'} <class 'set'>\n"
          ]
        }
      ]
    },
    {
      "cell_type": "markdown",
      "source": [
        "**Python Collections Demo**"
      ],
      "metadata": {
        "id": "rM9JhHTY0Bro"
      }
    },
    {
      "cell_type": "code",
      "source": [
        "# Future Value with error handling\n",
        "try:\n",
        "    amount = 100\n",
        "    interest = 10  # 10% = 0.01 * 10\n",
        "    years = 7\n",
        "\n",
        "    future_value = amount * ((1 + (0.01 * interest)) ** years)\n",
        "    print(round(future_value, 2))\n",
        "\n",
        "except Exception as e:\n",
        "    print(\"Có lỗi xảy ra:\", e)\n"
      ],
      "metadata": {
        "colab": {
          "base_uri": "https://localhost:8080/"
        },
        "id": "saxZCYtYzbm8",
        "outputId": "3927980a-303b-4f27-88c2-7280e4ad3054"
      },
      "execution_count": 410,
      "outputs": [
        {
          "output_type": "stream",
          "name": "stdout",
          "text": [
            "194.87\n"
          ]
        }
      ]
    },
    {
      "cell_type": "markdown",
      "source": [
        "**python_collections**"
      ],
      "metadata": {
        "id": "Rj73DyMJ0mKN"
      }
    },
    {
      "cell_type": "code",
      "source": [
        "# Python Collections Demo\n",
        "\n",
        "# list\n",
        "x = [\"apple\", \"banana\", \"cherry\"]\n",
        "print(\"List:\", x, \"| Type:\", type(x))\n",
        "\n",
        "# tuple\n",
        "x = (\"apple\", \"banana\", \"cherry\")\n",
        "print(\"Tuple:\", x, \"| Type:\", type(x))\n",
        "\n",
        "# dict\n",
        "x = {\"name\": \"Tom\", \"age\": 20}\n",
        "print(\"Dict:\", x, \"| Type:\", type(x))\n",
        "\n",
        "# set\n",
        "x = {\"apple\", \"banana\", \"cherry\"}\n",
        "print(\"Set:\", x, \"| Type:\", type(x))\n"
      ],
      "metadata": {
        "colab": {
          "base_uri": "https://localhost:8080/"
        },
        "id": "fN6eeYl40mT-",
        "outputId": "51be529e-08f4-4933-9083-5bfc17b75188"
      },
      "execution_count": 411,
      "outputs": [
        {
          "output_type": "stream",
          "name": "stdout",
          "text": [
            "List: ['apple', 'banana', 'cherry'] | Type: <class 'list'>\n",
            "Tuple: ('apple', 'banana', 'cherry') | Type: <class 'tuple'>\n",
            "Dict: {'name': 'Tom', 'age': 20} | Type: <class 'dict'>\n",
            "Set: {'apple', 'cherry', 'banana'} | Type: <class 'set'>\n"
          ]
        }
      ]
    },
    {
      "cell_type": "markdown",
      "source": [
        "**list_index_demo**"
      ],
      "metadata": {
        "id": "uXO7J5x206mQ"
      }
    },
    {
      "cell_type": "code",
      "source": [
        "# Python List Example\n",
        "x = [60, 70, 80, 90]\n",
        "\n",
        "# In ra độ dài của list\n",
        "print(\"Độ dài của x:\", len(x))\n",
        "\n",
        "# In ra các phần tử theo index\n",
        "print(\"Phần tử đầu tiên x[0]:\", x[0])\n",
        "print(\"Phần tử thứ hai x[1]:\", x[1])\n",
        "print(\"Phần tử cuối cùng x[-1]:\", x[-1])\n"
      ],
      "metadata": {
        "colab": {
          "base_uri": "https://localhost:8080/"
        },
        "id": "kDzMSUYR065L",
        "outputId": "c1607f9f-7711-4222-c3e4-31e37e9708d3"
      },
      "execution_count": 412,
      "outputs": [
        {
          "output_type": "stream",
          "name": "stdout",
          "text": [
            "Độ dài của x: 4\n",
            "Phần tử đầu tiên x[0]: 60\n",
            "Phần tử thứ hai x[1]: 70\n",
            "Phần tử cuối cùng x[-1]: 90\n"
          ]
        }
      ]
    },
    {
      "cell_type": "markdown",
      "source": [
        "**tuple_operations**"
      ],
      "metadata": {
        "id": "ZTGO5dX51DCz"
      }
    },
    {
      "cell_type": "code",
      "source": [
        "# Python Tuple Example\n",
        "x = (10, 20, 30, 40, 50)\n",
        "\n",
        "# In ra các phần tử theo index\n",
        "print(\"Phần tử đầu tiên x[0]:\", x[0])\n",
        "print(\"Phần tử thứ hai x[1]:\", x[1])\n",
        "print(\"Phần tử thứ ba x[2]:\", x[2])\n",
        "print(\"Phần tử cuối cùng x[-1]:\", x[-1])\n"
      ],
      "metadata": {
        "colab": {
          "base_uri": "https://localhost:8080/"
        },
        "id": "b5q6xxKY1DOZ",
        "outputId": "87eaa47c-f049-4f6e-de1f-80700bafb97e"
      },
      "execution_count": 413,
      "outputs": [
        {
          "output_type": "stream",
          "name": "stdout",
          "text": [
            "Phần tử đầu tiên x[0]: 10\n",
            "Phần tử thứ hai x[1]: 20\n",
            "Phần tử thứ ba x[2]: 30\n",
            "Phần tử cuối cùng x[-1]: 50\n"
          ]
        }
      ]
    },
    {
      "cell_type": "markdown",
      "source": [
        "**set_operations_demo**"
      ],
      "metadata": {
        "id": "vJVHSsZ31pfU"
      }
    },
    {
      "cell_type": "code",
      "source": [
        "# Python Set Example\n",
        "animals = {'cat', 'dog'}\n",
        "\n",
        "# Kiểm tra phần tử có trong set không\n",
        "print(\"'cat' có trong animals?\", 'cat' in animals)\n",
        "print(\"'fish' có trong animals?\", 'fish' in animals)\n",
        "\n",
        "# Thêm phần tử\n",
        "animals.add('fish')\n",
        "print(\"Sau khi thêm 'fish':\", 'fish' in animals)\n",
        "\n",
        "# Kích thước của set\n",
        "print(\"Số phần tử trong animals:\", len(animals))\n",
        "\n",
        "# Thêm 'cat' một lần nữa (không thay đổi set vì set không chứa trùng)\n",
        "animals.add('cat')\n",
        "print(\"Sau khi thêm 'cat' lần nữa, số phần tử:\", len(animals))\n",
        "\n",
        "# Xóa phần tử\n",
        "animals.remove('cat')\n",
        "print(\"Sau khi xóa 'cat', số phần tử:\", len(animals))\n"
      ],
      "metadata": {
        "colab": {
          "base_uri": "https://localhost:8080/"
        },
        "id": "MDTjAvNN1pkz",
        "outputId": "f403c2dc-eb31-4eef-e63a-1e3b5e379f86"
      },
      "execution_count": 414,
      "outputs": [
        {
          "output_type": "stream",
          "name": "stdout",
          "text": [
            "'cat' có trong animals? True\n",
            "'fish' có trong animals? False\n",
            "Sau khi thêm 'fish': True\n",
            "Số phần tử trong animals: 3\n",
            "Sau khi thêm 'cat' lần nữa, số phần tử: 3\n",
            "Sau khi xóa 'cat', số phần tử: 2\n"
          ]
        }
      ]
    },
    {
      "cell_type": "markdown",
      "source": [
        "**english**"
      ],
      "metadata": {
        "id": "2G_fMgia12DC"
      }
    },
    {
      "cell_type": "code",
      "source": [
        "k = { 'EN':'English'\n",
        "\n",
        ",\n",
        "'FR':'French' }\n",
        "\n",
        "print(k['EN'])"
      ],
      "metadata": {
        "colab": {
          "base_uri": "https://localhost:8080/"
        },
        "id": "JSg4GzgU12MG",
        "outputId": "9724e6b4-0cc6-47c8-d5b2-15ebc6d5d9cd"
      },
      "execution_count": 415,
      "outputs": [
        {
          "output_type": "stream",
          "name": "stdout",
          "text": [
            "English\n"
          ]
        }
      ]
    },
    {
      "cell_type": "markdown",
      "source": [
        "python_collections"
      ],
      "metadata": {
        "id": "ecFv9twL2J2p"
      }
    },
    {
      "cell_type": "code",
      "source": [
        "# Python Collections Examples\n",
        "\n",
        "# list\n",
        "fruits = [\"apple\", \"banana\", \"cherry\"]\n",
        "print(\"Fruits (List):\", fruits, \"| Type:\", type(fruits))\n",
        "\n",
        "# tuple\n",
        "colors = (\"red\", \"green\", \"blue\")\n",
        "print(\"Colors (Tuple):\", colors, \"| Type:\", type(colors))\n",
        "\n",
        "# set\n",
        "animals = {'cat', 'dog'}\n",
        "print(\"Animals (Set):\", animals, \"| Type:\", type(animals))\n",
        "\n",
        "# dictionary\n",
        "person = {\"name\": \"Tom\", \"age\": 20}\n",
        "print(\"Person (Dict):\", person, \"| Type:\", type(person))\n"
      ],
      "metadata": {
        "colab": {
          "base_uri": "https://localhost:8080/"
        },
        "id": "B2e__wIX2J9n",
        "outputId": "b8c9083d-d316-460e-ea7e-4a65a902fc2f"
      },
      "execution_count": 416,
      "outputs": [
        {
          "output_type": "stream",
          "name": "stdout",
          "text": [
            "Fruits (List): ['apple', 'banana', 'cherry'] | Type: <class 'list'>\n",
            "Colors (Tuple): ('red', 'green', 'blue') | Type: <class 'tuple'>\n",
            "Animals (Set): {'dog', 'cat'} | Type: <class 'set'>\n",
            "Person (Dict): {'name': 'Tom', 'age': 20} | Type: <class 'dict'>\n"
          ]
        }
      ]
    },
    {
      "cell_type": "markdown",
      "source": [
        "**list_sum_demo**"
      ],
      "metadata": {
        "id": "M5uh3k-12cNd"
      }
    },
    {
      "cell_type": "code",
      "source": [
        "# Python Lists\n",
        "expenses = [72.50, 80.75, 50.00, 90.25]\n",
        "total_expenses = sum(expenses)\n",
        "print(\"Total expenses:\", total_expenses)"
      ],
      "metadata": {
        "colab": {
          "base_uri": "https://localhost:8080/"
        },
        "id": "8vNfR7AE2cXD",
        "outputId": "84807685-2e5b-4ce1-ebce-31f2fe068b27"
      },
      "execution_count": 417,
      "outputs": [
        {
          "output_type": "stream",
          "name": "stdout",
          "text": [
            "Total expenses: 293.5\n"
          ]
        }
      ]
    },
    {
      "cell_type": "markdown",
      "source": [
        "**tuple_example**"
      ],
      "metadata": {
        "id": "6uYYQ1pr2sbX"
      }
    },
    {
      "cell_type": "code",
      "source": [
        "# Python Tuples Example\n",
        "accounts = ((\"Cash\", 1001), (\"Accounts Receivable\", 1002), (\"Inventory\", 1003))\n",
        "\n",
        "for account in accounts:\n",
        "    print(\"Account name:\", account[0], \"| Account number:\", account[1])\n"
      ],
      "metadata": {
        "colab": {
          "base_uri": "https://localhost:8080/"
        },
        "id": "I3TiElQO2ske",
        "outputId": "89529545-aa8b-441a-c0c5-db8b69b71d7b"
      },
      "execution_count": 418,
      "outputs": [
        {
          "output_type": "stream",
          "name": "stdout",
          "text": [
            "Account name: Cash | Account number: 1001\n",
            "Account name: Accounts Receivable | Account number: 1002\n",
            "Account name: Inventory | Account number: 1003\n"
          ]
        }
      ]
    },
    {
      "cell_type": "markdown",
      "source": [
        "*set_example*"
      ],
      "metadata": {
        "id": "9jw_hq7Q3EGN"
      }
    },
    {
      "cell_type": "code",
      "source": [
        "# Python Sets Example\n",
        "account_numbers = {1001, 1002, 1003}\n",
        "new_account_number = 1004\n",
        "\n",
        "if new_account_number not in account_numbers:\n",
        "    print(\"Account number\", new_account_number, \"is not in use.\")\n",
        "else:\n",
        "    print(\"Account number\", new_account_number, \"is already in use.\")\n"
      ],
      "metadata": {
        "colab": {
          "base_uri": "https://localhost:8080/"
        },
        "id": "HZICdSaT3EYC",
        "outputId": "a574839b-7d3c-4d1e-8769-1d6bfb264af5"
      },
      "execution_count": 419,
      "outputs": [
        {
          "output_type": "stream",
          "name": "stdout",
          "text": [
            "Account number 1004 is not in use.\n"
          ]
        }
      ]
    },
    {
      "cell_type": "markdown",
      "source": [
        "**dictionary_iteration_demo**"
      ],
      "metadata": {
        "id": "QEDRHMdH3b8-"
      }
    },
    {
      "cell_type": "code",
      "source": [
        "# Python Dictionaries Example\n",
        "accounts = {\n",
        "    \"1001\": {\"name\": \"Cash\", \"balance\": 500.00, \"type\": \"Asset\"},\n",
        "    \"1002\": {\"name\": \"Accounts Receivable\", \"balance\": 1000.00, \"type\": \"Asset\"},\n",
        "    \"2001\": {\"name\": \"Accounts Payable\", \"balance\": 750.00, \"type\": \"Liability\"}\n",
        "}\n",
        "\n",
        "for account_number, account_info in accounts.items():\n",
        "    print(\"Account number:\", account_number)\n",
        "    print(\"Account name:\", account_info[\"name\"])\n",
        "    print(\"Account balance:\", account_info[\"balance\"])\n",
        "    print(\"Account type:\", account_info[\"type\"])\n",
        "    print(\"-\" * 40)  # dòng phân cách giữa các account\n"
      ],
      "metadata": {
        "colab": {
          "base_uri": "https://localhost:8080/"
        },
        "id": "FOrbUYa_3cEC",
        "outputId": "485afb38-c8bf-498b-c4e5-776f4bdf797b"
      },
      "execution_count": 420,
      "outputs": [
        {
          "output_type": "stream",
          "name": "stdout",
          "text": [
            "Account number: 1001\n",
            "Account name: Cash\n",
            "Account balance: 500.0\n",
            "Account type: Asset\n",
            "----------------------------------------\n",
            "Account number: 1002\n",
            "Account name: Accounts Receivable\n",
            "Account balance: 1000.0\n",
            "Account type: Asset\n",
            "----------------------------------------\n",
            "Account number: 2001\n",
            "Account name: Accounts Payable\n",
            "Account balance: 750.0\n",
            "Account type: Liability\n",
            "----------------------------------------\n"
          ]
        }
      ]
    },
    {
      "cell_type": "markdown",
      "source": [
        "**if_statement_demo**"
      ],
      "metadata": {
        "id": "zRJyQcUk3osx"
      }
    },
    {
      "cell_type": "code",
      "source": [
        "# Python if\n",
        "score = 80\n",
        "\n",
        "if score >=60 :\n",
        "\n",
        "  print(\"Pass\")"
      ],
      "metadata": {
        "colab": {
          "base_uri": "https://localhost:8080/"
        },
        "id": "MCzMmZN63o1h",
        "outputId": "82ae471c-41e1-4587-fd73-83d354f26e52"
      },
      "execution_count": 436,
      "outputs": [
        {
          "output_type": "stream",
          "name": "stdout",
          "text": [
            "Pass\n"
          ]
        }
      ]
    },
    {
      "cell_type": "markdown",
      "source": [
        "**if_else_demo**"
      ],
      "metadata": {
        "id": "pCVqMBa030xz"
      }
    },
    {
      "cell_type": "code",
      "source": [
        "# Python if-else Example\n",
        "score = 80  # Điểm số\n",
        "\n",
        "if score >= 60:\n",
        "    print(\"Pass\")\n",
        "else:\n",
        "    print(\"Fail\")\n",
        "\n"
      ],
      "metadata": {
        "colab": {
          "base_uri": "https://localhost:8080/"
        },
        "id": "4dnY8_AA303A",
        "outputId": "80dd0ea2-89e1-4c40-a929-1185f5297149"
      },
      "execution_count": 435,
      "outputs": [
        {
          "output_type": "stream",
          "name": "stdout",
          "text": [
            "Pass\n"
          ]
        }
      ]
    },
    {
      "cell_type": "markdown",
      "source": [
        "**if_elif_else_demo**"
      ],
      "metadata": {
        "id": "pPEfnjWU4MEq"
      }
    },
    {
      "cell_type": "code",
      "source": [
        "# Python if-elif-else Example\n",
        "score = 95  # Điểm số\n",
        "\n",
        "if score >= 90:\n",
        "    print(\"A\")\n",
        "elif score >= 60:\n",
        "    print(\"Pass\")\n",
        "else:\n",
        "    print(\"Fail\")\n",
        "\n"
      ],
      "metadata": {
        "colab": {
          "base_uri": "https://localhost:8080/"
        },
        "id": "ZXybhwwH4MOa",
        "outputId": "8ba29b0b-1b08-47d7-a4d4-38093d1e5cc4"
      },
      "execution_count": 456,
      "outputs": [
        {
          "output_type": "stream",
          "name": "stdout",
          "text": [
            "A\n"
          ]
        }
      ]
    },
    {
      "cell_type": "markdown",
      "source": [
        "**grading_if_elif_else**"
      ],
      "metadata": {
        "id": "pZ-ndhu54Uql"
      }
    },
    {
      "cell_type": "code",
      "source": [
        "# Python if-elif-else Example\n",
        "score = 90\n",
        "grade = \"\"\n",
        "\n",
        "if score >= 90:\n",
        "    grade = \"A\"\n",
        "elif score >= 80:\n",
        "    grade = \"B\"\n",
        "elif score >= 70:\n",
        "    grade = \"C\"\n",
        "elif score >= 60:\n",
        "    grade = \"D\"\n",
        "else:\n",
        "    grade = \"E\"\n",
        "\n",
        "print(\"Grade:\", grade)\n"
      ],
      "metadata": {
        "colab": {
          "base_uri": "https://localhost:8080/"
        },
        "id": "cYgJlOEb4U3v",
        "outputId": "ae040de3-639a-4dc8-e037-e4450b28f7bd"
      },
      "execution_count": 455,
      "outputs": [
        {
          "output_type": "stream",
          "name": "stdout",
          "text": [
            "Grade: A\n"
          ]
        }
      ]
    },
    {
      "cell_type": "markdown",
      "source": [
        "**for_loop_demo**"
      ],
      "metadata": {
        "id": "66oD7Wvh4nDY"
      }
    },
    {
      "cell_type": "code",
      "source": [
        "for i in range(1,6):\n",
        "\n",
        " print(i)"
      ],
      "metadata": {
        "colab": {
          "base_uri": "https://localhost:8080/"
        },
        "id": "tI9uCi0t4nZU",
        "outputId": "e92c5388-0d85-4a30-f065-36b922db1ef4"
      },
      "execution_count": 437,
      "outputs": [
        {
          "output_type": "stream",
          "name": "stdout",
          "text": [
            "1\n",
            "2\n",
            "3\n",
            "4\n",
            "5\n"
          ]
        }
      ]
    },
    {
      "cell_type": "markdown",
      "source": [
        "**multiplication_table**"
      ],
      "metadata": {
        "id": "K7AiGxVt4wHy"
      }
    },
    {
      "cell_type": "code",
      "source": [
        "# Python Nested For Loops: Multiplication Table\n",
        "for i in range(1, 10):\n",
        "    for j in range(1, 10):\n",
        "        print(i, '*', j, '=', i * j)\n"
      ],
      "metadata": {
        "colab": {
          "base_uri": "https://localhost:8080/"
        },
        "id": "5rhX0zGH4wPD",
        "outputId": "dcd57ebb-72e7-4a45-942d-903ddf3b9b11"
      },
      "execution_count": 454,
      "outputs": [
        {
          "output_type": "stream",
          "name": "stdout",
          "text": [
            "1 * 1 = 1\n",
            "1 * 2 = 2\n",
            "1 * 3 = 3\n",
            "1 * 4 = 4\n",
            "1 * 5 = 5\n",
            "1 * 6 = 6\n",
            "1 * 7 = 7\n",
            "1 * 8 = 8\n",
            "1 * 9 = 9\n",
            "2 * 1 = 2\n",
            "2 * 2 = 4\n",
            "2 * 3 = 6\n",
            "2 * 4 = 8\n",
            "2 * 5 = 10\n",
            "2 * 6 = 12\n",
            "2 * 7 = 14\n",
            "2 * 8 = 16\n",
            "2 * 9 = 18\n",
            "3 * 1 = 3\n",
            "3 * 2 = 6\n",
            "3 * 3 = 9\n",
            "3 * 4 = 12\n",
            "3 * 5 = 15\n",
            "3 * 6 = 18\n",
            "3 * 7 = 21\n",
            "3 * 8 = 24\n",
            "3 * 9 = 27\n",
            "4 * 1 = 4\n",
            "4 * 2 = 8\n",
            "4 * 3 = 12\n",
            "4 * 4 = 16\n",
            "4 * 5 = 20\n",
            "4 * 6 = 24\n",
            "4 * 7 = 28\n",
            "4 * 8 = 32\n",
            "4 * 9 = 36\n",
            "5 * 1 = 5\n",
            "5 * 2 = 10\n",
            "5 * 3 = 15\n",
            "5 * 4 = 20\n",
            "5 * 5 = 25\n",
            "5 * 6 = 30\n",
            "5 * 7 = 35\n",
            "5 * 8 = 40\n",
            "5 * 9 = 45\n",
            "6 * 1 = 6\n",
            "6 * 2 = 12\n",
            "6 * 3 = 18\n",
            "6 * 4 = 24\n",
            "6 * 5 = 30\n",
            "6 * 6 = 36\n",
            "6 * 7 = 42\n",
            "6 * 8 = 48\n",
            "6 * 9 = 54\n",
            "7 * 1 = 7\n",
            "7 * 2 = 14\n",
            "7 * 3 = 21\n",
            "7 * 4 = 28\n",
            "7 * 5 = 35\n",
            "7 * 6 = 42\n",
            "7 * 7 = 49\n",
            "7 * 8 = 56\n",
            "7 * 9 = 63\n",
            "8 * 1 = 8\n",
            "8 * 2 = 16\n",
            "8 * 3 = 24\n",
            "8 * 4 = 32\n",
            "8 * 5 = 40\n",
            "8 * 6 = 48\n",
            "8 * 7 = 56\n",
            "8 * 8 = 64\n",
            "8 * 9 = 72\n",
            "9 * 1 = 9\n",
            "9 * 2 = 18\n",
            "9 * 3 = 27\n",
            "9 * 4 = 36\n",
            "9 * 5 = 45\n",
            "9 * 6 = 54\n",
            "9 * 7 = 63\n",
            "9 * 8 = 72\n",
            "9 * 9 = 81\n"
          ]
        }
      ]
    },
    {
      "cell_type": "markdown",
      "source": [
        "**while_loop_demo**"
      ],
      "metadata": {
        "id": "3WHpDvjo5j7c"
      }
    },
    {
      "cell_type": "code",
      "source": [
        "# Python While Loop Example\n",
        "age = 10\n",
        "\n",
        "while age < 20:\n",
        "    print(age)\n",
        "    age = age + 1\n"
      ],
      "metadata": {
        "colab": {
          "base_uri": "https://localhost:8080/"
        },
        "id": "ejBAfYi75kC2",
        "outputId": "7caa7769-04aa-46cb-8dd6-777d175403b2"
      },
      "execution_count": 453,
      "outputs": [
        {
          "output_type": "stream",
          "name": "stdout",
          "text": [
            "10\n",
            "11\n",
            "12\n",
            "13\n",
            "14\n",
            "15\n",
            "16\n",
            "17\n",
            "18\n",
            "19\n"
          ]
        }
      ]
    },
    {
      "cell_type": "markdown",
      "source": [
        "**future_value_function**"
      ],
      "metadata": {
        "id": "a_-eVkPe6AeS"
      }
    },
    {
      "cell_type": "code",
      "source": [
        "# Python Function Example: Future Value\n",
        "def getfv(pv, r, n):\n",
        "    fv = pv * ((1 + r) ** n)\n",
        "    print(\"Future Value inside function:\", fv)  # in giá trị bên trong hàm\n",
        "    return fv\n",
        "\n",
        "fv = getfv(100, 0.1, 7)\n",
        "print(\"Rounded Future Value:\", round(fv, 2))\n"
      ],
      "metadata": {
        "colab": {
          "base_uri": "https://localhost:8080/"
        },
        "id": "mpoqd7f16Anh",
        "outputId": "cec1a395-2a55-41e8-f77b-04f67e9af85d"
      },
      "execution_count": 452,
      "outputs": [
        {
          "output_type": "stream",
          "name": "stdout",
          "text": [
            "Future Value inside function: 194.87171000000012\n",
            "Rounded Future Value: 194.87\n"
          ]
        }
      ]
    },
    {
      "cell_type": "markdown",
      "source": [
        "**future_value_function**"
      ],
      "metadata": {
        "id": "pnButvRe6PBL"
      }
    },
    {
      "cell_type": "code",
      "source": [
        "# How much is your $100 worth after 7 years?\n",
        "fv = 100 * 1.1 ** 7\n",
        "print('fv = ', round(fv, 2))\n",
        "# output = 194.87"
      ],
      "metadata": {
        "colab": {
          "base_uri": "https://localhost:8080/"
        },
        "id": "HbQ9GqsS6PKs",
        "outputId": "386685f6-bd62-4bf9-c1cd-d1d7f52c52a7"
      },
      "execution_count": 451,
      "outputs": [
        {
          "output_type": "stream",
          "name": "stdout",
          "text": [
            "fv =  194.87\n"
          ]
        }
      ]
    },
    {
      "cell_type": "markdown",
      "source": [
        "**future_value_simple**"
      ],
      "metadata": {
        "id": "RBJQPwrB6j7B"
      }
    },
    {
      "cell_type": "code",
      "source": [
        "# Future Value\n",
        "pv = 100\n",
        "r = 0.1\n",
        "n = 7\n",
        "fv = pv * ((1 + (r)) ** n)\n",
        "print(round(fv, 2))"
      ],
      "metadata": {
        "colab": {
          "base_uri": "https://localhost:8080/"
        },
        "id": "QYzfVjro6kC8",
        "outputId": "c43aa05b-b866-4aca-e967-f9387e3fe052"
      },
      "execution_count": 450,
      "outputs": [
        {
          "output_type": "stream",
          "name": "stdout",
          "text": [
            "194.87\n"
          ]
        }
      ]
    },
    {
      "cell_type": "markdown",
      "source": [
        "**future_value_function.py**"
      ],
      "metadata": {
        "id": "QcTNXYCg6syP"
      }
    },
    {
      "cell_type": "code",
      "source": [
        "# Python Function Example: Future Value\n",
        "def getfv(pv, r, n):\n",
        "    fv = pv * ((1 + r) ** n)\n",
        "    print(\"Future Value inside function:\", fv)  # in giá trị bên trong hàm\n",
        "    return fv\n",
        "\n",
        "fv = getfv(100, 0.1, 7)\n",
        "print(\"Rounded Future Value:\", round(fv, 2))\n"
      ],
      "metadata": {
        "colab": {
          "base_uri": "https://localhost:8080/"
        },
        "id": "gUM53NLt6s5p",
        "outputId": "55e4c804-6e71-49b7-e88e-a0522e9ea7f3"
      },
      "execution_count": 449,
      "outputs": [
        {
          "output_type": "stream",
          "name": "stdout",
          "text": [
            "Future Value inside function: 194.87171000000012\n",
            "Rounded Future Value: 194.87\n"
          ]
        }
      ]
    },
    {
      "cell_type": "markdown",
      "source": [
        "**person_class_example**"
      ],
      "metadata": {
        "id": "dZ1CYwwC7Vbt"
      }
    },
    {
      "cell_type": "code",
      "source": [
        "# Python Class Example\n",
        "\n",
        "class Person:\n",
        "    def __init__(self, name, age):\n",
        "        self.name = name\n",
        "        self.age = age\n",
        "\n",
        "# Tạo đối tượng p1 từ lớp Person\n",
        "p1 = Person(\"Alan\", 20)\n",
        "\n",
        "# In ra thông tin đối tượng\n",
        "print(\"Tên:\", p1.name)\n",
        "print(\"Tuổi:\", p1.age)\n"
      ],
      "metadata": {
        "colab": {
          "base_uri": "https://localhost:8080/"
        },
        "id": "bOh9IYyM7Vl-",
        "outputId": "05c95000-f365-40f3-85f4-ad9c1de1ec25"
      },
      "execution_count": 448,
      "outputs": [
        {
          "output_type": "stream",
          "name": "stdout",
          "text": [
            "Tên: Alan\n",
            "Tuổi: 20\n"
          ]
        }
      ]
    },
    {
      "cell_type": "markdown",
      "source": [
        "**person_class_method**"
      ],
      "metadata": {
        "id": "BGpxCU7Z7zNU"
      }
    },
    {
      "cell_type": "code",
      "source": [
        "# Python Class with Method Example\n",
        "\n",
        "class Person:\n",
        "    def __init__(self, name, age):\n",
        "        self.name = name\n",
        "        self.age = age\n",
        "\n",
        "    def myfunc(self):\n",
        "        print(\"Hello my name is \" + self.name)\n",
        "        print(\"I am\", self.age, \"years old.\")\n",
        "\n",
        "# Tạo đối tượng và gọi hàm\n",
        "p1 = Person(\"Alan\", 20)\n",
        "p1.myfunc()\n"
      ],
      "metadata": {
        "colab": {
          "base_uri": "https://localhost:8080/"
        },
        "id": "BrZivbp87znB",
        "outputId": "be75720b-e588-4f0e-bdaa-a40ba4eef29e"
      },
      "execution_count": 422,
      "outputs": [
        {
          "output_type": "stream",
          "name": "stdout",
          "text": [
            "Hello my name is Alan\n",
            "I am 20 years old.\n"
          ]
        }
      ]
    },
    {
      "cell_type": "markdown",
      "source": [
        "**person_class_demo**"
      ],
      "metadata": {
        "id": "tZ62LsT88Sbi"
      }
    },
    {
      "cell_type": "code",
      "source": [
        "# Python Class with Attributes and Method\n",
        "\n",
        "class Person:\n",
        "    def __init__(self, name, age):\n",
        "        self.name = name\n",
        "        self.age = age\n",
        "\n",
        "    def myfunc(self):\n",
        "        print(\"Hello my name is \" + self.name)\n",
        "\n",
        "# Tạo đối tượng p1\n",
        "p1 = Person(\"Alan\", 20)\n",
        "\n",
        "# Gọi hàm myfunc()\n",
        "p1.myfunc()\n",
        "\n",
        "# In ra thuộc tính\n",
        "print(\"Tên:\", p1.name)\n",
        "print(\"Tuổi:\", p1.age)\n"
      ],
      "metadata": {
        "colab": {
          "base_uri": "https://localhost:8080/"
        },
        "id": "08N2fp2o8Slc",
        "outputId": "02a95f1d-574e-424d-a01b-2fef232b52b5"
      },
      "execution_count": 423,
      "outputs": [
        {
          "output_type": "stream",
          "name": "stdout",
          "text": [
            "Hello my name is Alan\n",
            "Tên: Alan\n",
            "Tuổi: 20\n"
          ]
        }
      ]
    },
    {
      "cell_type": "markdown",
      "source": [
        "**vehicle_class_demo**"
      ],
      "metadata": {
        "id": "bZ0XeRGS8t1E"
      }
    },
    {
      "cell_type": "code",
      "source": [
        "# Python Class Vehicle Example\n",
        "\n",
        "class Vehicle:\n",
        "    name = \"\"\n",
        "    kind = \"car\"\n",
        "    color = \"\"\n",
        "    value = 100.00\n",
        "\n",
        "    def description(self):\n",
        "        desc_str = \"%s is a %s %s worth $%.2f.\" % (self.name, self.color, self.kind, self.value)\n",
        "        return desc_str\n",
        "\n",
        "# Tạo đối tượng Vehicle\n",
        "car1 = Vehicle()\n",
        "car1.name = \"BMW\"\n",
        "car1.color = \"red\"\n",
        "car1.kind = \"sport car\"\n",
        "car1.value = 60000.00\n",
        "\n",
        "# In ra mô tả xe\n",
        "print(car1.description())\n"
      ],
      "metadata": {
        "colab": {
          "base_uri": "https://localhost:8080/"
        },
        "id": "r9vE2JWF8t8x",
        "outputId": "60fca377-6ca5-4747-ce87-9cb1df462df7"
      },
      "execution_count": 424,
      "outputs": [
        {
          "output_type": "stream",
          "name": "stdout",
          "text": [
            "BMW is a red sport car worth $60000.00.\n"
          ]
        }
      ]
    },
    {
      "cell_type": "markdown",
      "source": [
        "**vehicle_objects_demo**"
      ],
      "metadata": {
        "id": "HRdYzy899Chm"
      }
    },
    {
      "cell_type": "code",
      "source": [
        "# Python Vehicle Class Example\n",
        "\n",
        "class Vehicle:\n",
        "    name = \"\"\n",
        "    kind = \"car\"\n",
        "    color = \"\"\n",
        "    value = 100.00\n",
        "\n",
        "    def description(self):\n",
        "        desc_str = \"%s is a %s %s worth $%.2f.\" % (self.name, self.color, self.kind, self.value)\n",
        "        return desc_str\n",
        "\n",
        "\n",
        "# Tạo đối tượng car1\n",
        "car1 = Vehicle()\n",
        "car1.name = \"Fer\"\n",
        "car1.color = \"red\"\n",
        "car1.kind = \"convertible\"\n",
        "car1.value = 60000.00\n",
        "\n",
        "# Tạo đối tượng car2\n",
        "car2 = Vehicle()\n",
        "car2.name = \"Jump\"\n",
        "car2.color = \"blue\"\n",
        "car2.kind = \"van\"\n",
        "car2.value = 10000.00\n",
        "\n",
        "# In thông tin ra màn hình\n",
        "print(car1.description())\n",
        "print(car1.name)\n",
        "print(car2.description())\n",
        "print(car2.name)\n"
      ],
      "metadata": {
        "colab": {
          "base_uri": "https://localhost:8080/"
        },
        "id": "k0InpXIf9CoW",
        "outputId": "f26ff31a-dece-4d4d-9d82-5fc3ce3decdc"
      },
      "execution_count": 425,
      "outputs": [
        {
          "output_type": "stream",
          "name": "stdout",
          "text": [
            "Fer is a red convertible worth $60000.00.\n",
            "Fer\n",
            "Jump is a blue van worth $10000.00.\n",
            "Jump\n"
          ]
        }
      ]
    },
    {
      "cell_type": "markdown",
      "source": [
        "**mymodyle**"
      ],
      "metadata": {
        "id": "ddx4nuRP9aVM"
      }
    },
    {
      "cell_type": "code",
      "source": [
        "# mymodule.py\n",
        "\n",
        "def greeting(name):\n",
        "    print(\"Hello, \" + name)\n"
      ],
      "metadata": {
        "id": "Q7N0wIdO9rQd"
      },
      "execution_count": 426,
      "outputs": []
    },
    {
      "cell_type": "markdown",
      "source": [
        "**file_io_example**"
      ],
      "metadata": {
        "id": "qQ90YxYP94Px"
      }
    },
    {
      "cell_type": "code",
      "source": [
        "# Python File Input / Output Example\n",
        "\n",
        "# Ghi vào file\n",
        "with open('myfile.txt', 'w') as file:\n",
        "    file.write(\"Hello World\\nThis is Python File Input Output\")\n",
        "\n",
        "# Đọc lại từ file\n",
        "with open('myfile.txt', 'r') as file:\n",
        "    text = file.read()\n",
        "    print(text)\n"
      ],
      "metadata": {
        "colab": {
          "base_uri": "https://localhost:8080/"
        },
        "id": "FGM5qihm94md",
        "outputId": "7538866d-aecd-4de3-8776-d9bcdc6ca967"
      },
      "execution_count": 427,
      "outputs": [
        {
          "output_type": "stream",
          "name": "stdout",
          "text": [
            "Hello World\n",
            "This is Python File Input Output\n"
          ]
        }
      ]
    },
    {
      "cell_type": "markdown",
      "source": [
        "**file_module_writer**"
      ],
      "metadata": {
        "id": "tN0Jw1ma-Y01"
      }
    },
    {
      "cell_type": "code",
      "source": [
        "# Python File Input / Output\n",
        "\n",
        "filename = 'mymodule.py'\n",
        "\n",
        "# Ghi nội dung vào file\n",
        "with open(filename, 'w') as file:\n",
        "    text = '''def greeting(name):\n",
        "    print(\"Hello, \" + name)\n",
        "'''\n",
        "    file.write(text)\n",
        "\n",
        "# Đọc lại nội dung từ file\n",
        "with open(filename, 'r') as file:\n",
        "    text = file.read()\n",
        "\n",
        "# In ra kết quả\n",
        "print(\"Tên file:\", filename)\n",
        "print(\"Nội dung file:\\n\", text)\n"
      ],
      "metadata": {
        "colab": {
          "base_uri": "https://localhost:8080/"
        },
        "id": "8jF-p8bI-Y9j",
        "outputId": "e784ea54-a612-46ce-c8f8-037a7c79e291"
      },
      "execution_count": 428,
      "outputs": [
        {
          "output_type": "stream",
          "name": "stdout",
          "text": [
            "Tên file: mymodule.py\n",
            "Nội dung file:\n",
            " def greeting(name):\n",
            "    print(\"Hello, \" + name)\n",
            "\n"
          ]
        }
      ]
    },
    {
      "cell_type": "markdown",
      "source": [
        "**mymodule**"
      ],
      "metadata": {
        "id": "HtTWI4vp-m9G"
      }
    },
    {
      "cell_type": "code",
      "source": [
        "# mymodule.py\n",
        "\n",
        "def greeting(name):\n",
        "    print(\"Hello, \" + name)\n"
      ],
      "metadata": {
        "id": "fzFrDCQu-nFx"
      },
      "execution_count": 429,
      "outputs": []
    },
    {
      "cell_type": "markdown",
      "source": [
        "**python_main **"
      ],
      "metadata": {
        "id": "956U8NND-3pi"
      }
    },
    {
      "cell_type": "code",
      "source": [
        "# Python main() function example\n",
        "\n",
        "def main():\n",
        "    print(\"Hello World!\")\n",
        "\n",
        "# Kiểm tra nếu file này được chạy trực tiếp\n",
        "if __name__ == \"__main__\":\n",
        "    main()\n"
      ],
      "metadata": {
        "colab": {
          "base_uri": "https://localhost:8080/"
        },
        "id": "WG6oLNso-3yy",
        "outputId": "8f2930d8-30a4-4cd2-ca55-5cb917a78c25"
      },
      "execution_count": 447,
      "outputs": [
        {
          "output_type": "stream",
          "name": "stdout",
          "text": [
            "Hello World!\n"
          ]
        }
      ]
    },
    {
      "cell_type": "markdown",
      "source": [
        "**file_open_read_write**"
      ],
      "metadata": {
        "id": "L8eagHTg_A1x"
      }
    },
    {
      "cell_type": "code",
      "source": [
        "# Python File Write and Read\n",
        "\n",
        "# Ghi vào file\n",
        "f = open(\"myfile.txt\", \"w\")\n",
        "f.write(\"Hello World\")\n",
        "f.close()\n",
        "\n",
        "# Đọc từ file\n",
        "f = open(\"myfile.txt\", \"r\")\n",
        "text = f.read()\n",
        "print(text)\n",
        "f.close()\n"
      ],
      "metadata": {
        "id": "C7L11p6y_BMT"
      },
      "execution_count": null,
      "outputs": []
    },
    {
      "cell_type": "markdown",
      "source": [
        "**file_io_simple**"
      ],
      "metadata": {
        "id": "zB_EgNbj_Ooh"
      }
    },
    {
      "cell_type": "code",
      "source": [
        "# Python File Input / Output Example\n",
        "\n",
        "# Ghi vào file\n",
        "with open('myfile.txt', 'w') as file:\n",
        "    file.write('Hello World')\n",
        "\n",
        "# Đọc từ file\n",
        "with open('myfile.txt', 'r') as file:\n",
        "    text = file.read()\n",
        "\n",
        "# In ra kết quả\n",
        "print(text)\n"
      ],
      "metadata": {
        "id": "YQQH4mRr_OyM"
      },
      "execution_count": null,
      "outputs": []
    },
    {
      "cell_type": "markdown",
      "source": [
        "*file_append_read*"
      ],
      "metadata": {
        "id": "Sf_1qG4M_wgF"
      }
    },
    {
      "cell_type": "code",
      "source": [
        "# Python File Input / Output\n",
        "\n",
        "# Ghi thêm nội dung vào file\n",
        "with open(\"myfile.txt\", \"a+\") as file:\n",
        "    file.write(\"\\nNew line\")\n",
        "    print(\"✅ Đã ghi thêm 'New line' vào file.\")\n",
        "\n",
        "# Đọc nội dung từ file\n",
        "with open(\"myfile.txt\", \"r\") as file:\n",
        "    print(\"📖 Đang đọc nội dung trong file...\")\n",
        "    text = file.read()\n",
        "\n",
        "# In nội dung ra màn hình\n",
        "print(\"📌 Nội dung file:\")\n",
        "print(text)\n"
      ],
      "metadata": {
        "id": "L48Y6yxq_wqb"
      },
      "execution_count": null,
      "outputs": []
    },
    {
      "cell_type": "markdown",
      "source": [
        "** !ls list files**"
      ],
      "metadata": {
        "id": "8WpDpg_ZAoqJ"
      }
    },
    {
      "cell_type": "code",
      "source": [
        "# !ls list files\n",
        "import os\n",
        "\n",
        "# Lấy thư mục làm việc hiện tại\n",
        "cwd = os.getcwd()\n",
        "\n",
        "# In ra màn hình\n",
        "print(\"Current Working Directory:\", cwd)\n"
      ],
      "metadata": {
        "colab": {
          "base_uri": "https://localhost:8080/"
        },
        "id": "l3ffGJrXAoy3",
        "outputId": "75aa0bd7-6d0b-4e71-9191-823b64e6b9d5"
      },
      "execution_count": 444,
      "outputs": [
        {
          "output_type": "stream",
          "name": "stdout",
          "text": [
            "Current Working Directory: /content\n"
          ]
        }
      ]
    },
    {
      "cell_type": "markdown",
      "source": [
        "***list_directory***"
      ],
      "metadata": {
        "id": "ixZt1Y_uBUhH"
      }
    },
    {
      "cell_type": "code",
      "source": [
        "import os\n",
        "\n",
        "# Lấy thư mục hiện tại\n",
        "cwd = os.getcwd()\n",
        "print(\"Current Working Directory:\", cwd)\n",
        "\n",
        "# Ghép đường dẫn tới thư mục sample_data\n",
        "path = os.path.join(cwd, 'sample_data')\n",
        "print(\"Full Path:\", path)\n",
        "\n",
        "# Liệt kê file/thư mục bên trong sample_data\n",
        "files = os.listdir(path)\n",
        "print(\"Files in sample_data:\", files)\n"
      ],
      "metadata": {
        "colab": {
          "base_uri": "https://localhost:8080/"
        },
        "id": "safnYiUOBixr",
        "outputId": "26d7d39a-2644-4ac6-a779-264b135691a3"
      },
      "execution_count": 445,
      "outputs": [
        {
          "output_type": "stream",
          "name": "stdout",
          "text": [
            "Current Working Directory: /content\n",
            "Full Path: /content/sample_data\n",
            "Files in sample_data: ['anscombe.json', 'README.md', 'mnist_test.csv', 'mnist_train_small.csv', 'california_housing_train.csv', 'california_housing_test.csv']\n"
          ]
        }
      ]
    },
    {
      "cell_type": "markdown",
      "source": [
        "**colab_file_download**"
      ],
      "metadata": {
        "id": "wVBM739UBxce"
      }
    },
    {
      "cell_type": "code",
      "source": [
        "from google.colab import files\n",
        "import time\n",
        "\n",
        "# Ghi nội dung vào file\n",
        "with open('io_file_myday.txt', 'w') as f:\n",
        "    f.write('Google Colab File Write Text some content Myday')\n",
        "\n",
        "print(\"File đã được ghi nội dung.\")\n",
        "\n",
        "# Tạm dừng 1 giây\n",
        "time.sleep(1)\n",
        "\n",
        "# Tải file về máy\n",
        "files.download('io_file_myday.txt')\n",
        "print('File đã được tải xuống thành công.')\n"
      ],
      "metadata": {
        "id": "qFXkz4X8AwAW"
      },
      "execution_count": null,
      "outputs": []
    },
    {
      "cell_type": "markdown",
      "source": [
        "**File Remove Example**"
      ],
      "metadata": {
        "id": "sqQuf9XPCc88"
      }
    },
    {
      "cell_type": "code",
      "source": [
        "import os\n",
        "\n",
        "if os.path.exists(\"myfile.txt\"):\n",
        "    os.remove(\"myfile.txt\")\n",
        "    print(\"✅ myfile.txt removed\")\n",
        "else:\n",
        "    print(\"⚠️ The file does not exist\")\n"
      ],
      "metadata": {
        "colab": {
          "base_uri": "https://localhost:8080/"
        },
        "id": "Q-YvOiEgCdDd",
        "outputId": "2820071a-9f64-4130-e71a-d1a44a58d108"
      },
      "execution_count": 441,
      "outputs": [
        {
          "output_type": "stream",
          "name": "stdout",
          "text": [
            "✅ myfile.txt removed\n"
          ]
        }
      ]
    },
    {
      "cell_type": "markdown",
      "source": [
        "**os_folder_demo**"
      ],
      "metadata": {
        "id": "qCT9zXO4CqJF"
      }
    },
    {
      "cell_type": "code",
      "source": [
        "import os\n",
        "\n",
        "# Liệt kê thư mục hiện tại trước khi tạo\n",
        "print(\"Danh sách thư mục/file ban đầu:\", os.listdir())\n",
        "\n",
        "# Tạo thư mục mới\n",
        "os.mkdir(\"myfolder1\")\n",
        "print(\"Sau khi tạo myfolder1:\", os.listdir())\n",
        "\n",
        "# Xóa thư mục vừa tạo\n",
        "os.rmdir(\"myfolder1\")\n",
        "print(\"Sau khi xóa myfolder1:\", os.listdir())\n"
      ],
      "metadata": {
        "colab": {
          "base_uri": "https://localhost:8080/"
        },
        "id": "0WEZc0onCqPm",
        "outputId": "12ed77b3-0046-4425-80f8-7246c5b4ac46"
      },
      "execution_count": 442,
      "outputs": [
        {
          "output_type": "stream",
          "name": "stdout",
          "text": [
            "Danh sách thư mục/file ban đầu: ['.config', 'io_file_myday.txt', 'mymodule.py', 'drive', 'sample_data']\n",
            "Sau khi tạo myfolder1: ['.config', 'io_file_myday.txt', 'myfolder1', 'mymodule.py', 'drive', 'sample_data']\n",
            "Sau khi xóa myfolder1: ['.config', 'io_file_myday.txt', 'mymodule.py', 'drive', 'sample_data']\n"
          ]
        }
      ]
    },
    {
      "cell_type": "markdown",
      "source": [
        "**try_except_demo**"
      ],
      "metadata": {
        "id": "rkUHeJvSC1rt"
      }
    },
    {
      "cell_type": "code",
      "source": [
        "# Python try except\n",
        "try:\n",
        "    print(x)  # x chưa được định nghĩa nên sẽ gây lỗi\n",
        "except:\n",
        "    print(\"Exception Error: biến x chưa được định nghĩa\")\n"
      ],
      "metadata": {
        "colab": {
          "base_uri": "https://localhost:8080/"
        },
        "id": "qHBETJXdC1y3",
        "outputId": "ed143fce-c3ec-4fd2-ac31-c597cf31d49b"
      },
      "execution_count": 443,
      "outputs": [
        {
          "output_type": "stream",
          "name": "stdout",
          "text": [
            "5.0\n"
          ]
        }
      ]
    },
    {
      "cell_type": "markdown",
      "source": [
        "**try_except_finally_demo**"
      ],
      "metadata": {
        "id": "28moIXquDEPW"
      }
    },
    {
      "cell_type": "code",
      "source": [
        "# Python try except finally demo\n",
        "\n",
        "try:\n",
        "    print(\"Bắt đầu khối try...\")\n",
        "    print(\"Hello\")  # Lệnh chạy bình thường\n",
        "    x = 10 / 2      # Không lỗi\n",
        "    print(\"Giá trị của x:\", x)\n",
        "\n",
        "except Exception as e:\n",
        "    print(\"Có lỗi xảy ra trong khối try:\", e)\n",
        "\n",
        "finally:\n",
        "    print(\"Khối finally luôn được thực hiện\")\n",
        "    print(\"Kết thúc chương trình\")\n"
      ],
      "metadata": {
        "colab": {
          "base_uri": "https://localhost:8080/"
        },
        "id": "cITdvqf7DEVj",
        "outputId": "91654018-ba7d-459a-af95-d031ca84115d"
      },
      "execution_count": 440,
      "outputs": [
        {
          "output_type": "stream",
          "name": "stdout",
          "text": [
            "Bắt đầu khối try...\n",
            "Hello\n",
            "Giá trị của x: 5.0\n",
            "Khối finally luôn được thực hiện\n",
            "Kết thúc chương trình\n"
          ]
        }
      ]
    },
    {
      "cell_type": "markdown",
      "source": [
        "**try_except_else_demo**"
      ],
      "metadata": {
        "id": "bUYqc0ZxDiUw"
      }
    },
    {
      "cell_type": "code",
      "source": [
        "# Python try except else Example\n",
        "\n",
        "try:\n",
        "    print(\"Hello\")\n",
        "except Exception as e:\n",
        "    print(\"Exception Error:\", e)  # Nếu có lỗi thì in ra thông báo\n",
        "else:\n",
        "    print(\"No exception\")  # Nếu không lỗi thì in ra thông báo\n"
      ],
      "metadata": {
        "colab": {
          "base_uri": "https://localhost:8080/"
        },
        "id": "n9aScG30DicQ",
        "outputId": "a1892fde-67a4-4a56-bfa7-7f71f73f4080"
      },
      "execution_count": 439,
      "outputs": [
        {
          "output_type": "stream",
          "name": "stdout",
          "text": [
            "Hello\n",
            "No exception\n"
          ]
        }
      ]
    },
    {
      "cell_type": "markdown",
      "source": [
        "**Python Try Except Else**"
      ],
      "metadata": {
        "id": "KFgY-jLlDwhA"
      }
    },
    {
      "cell_type": "code",
      "source": [
        "# Python try except else Example\n",
        "\n",
        "try:\n",
        "    print(\"Hello\")  # Lệnh này không gây lỗi\n",
        "except:\n",
        "    print(\"Exception Error\")  # Nếu có lỗi sẽ chạy vào đây\n",
        "else:\n",
        "    print(\"No exception - Code chạy thành công\")  # Nếu không lỗi thì in ra\n"
      ],
      "metadata": {
        "colab": {
          "base_uri": "https://localhost:8080/"
        },
        "id": "JnduTOLODwue",
        "outputId": "0affc259-7d98-499c-905b-1fffdc07705e"
      },
      "execution_count": 434,
      "outputs": [
        {
          "output_type": "stream",
          "name": "stdout",
          "text": [
            "Hello\n",
            "No exception - Code chạy thành công\n"
          ]
        }
      ]
    },
    {
      "cell_type": "markdown",
      "source": [
        "**Python Try Except Else Finally – Stock Value Calculator**"
      ],
      "metadata": {
        "id": "R7F3TBy9D799"
      }
    },
    {
      "cell_type": "code",
      "source": [
        "# Python Try Except Else Finally Example\n",
        "\n",
        "try:\n",
        "    price = float(input(\"Enter the price of the stock (e.g. 10): \"))\n",
        "    shares = int(input(\"Enter the number of shares (e.g. 2): \"))\n",
        "    total = price * shares\n",
        "\n",
        "except Exception as e:\n",
        "    print(\"Exception error:\", str(e))\n",
        "\n",
        "else:\n",
        "    print(\"The total value of the shares is:\", total)\n",
        "\n",
        "finally:\n",
        "    print(\"Thank you.\")\n"
      ],
      "metadata": {
        "colab": {
          "base_uri": "https://localhost:8080/"
        },
        "id": "FK76eVQoD8Gy",
        "outputId": "60d3d432-c523-4aa8-f45b-7181fb31bcf3"
      },
      "execution_count": 431,
      "outputs": [
        {
          "output_type": "stream",
          "name": "stdout",
          "text": [
            "Enter the price of the stock (e.g. 10): 10\n",
            "Enter the number of shares (e.g. 2): 6\n",
            "The total value of the shares is: 60.0\n",
            "Thank you.\n"
          ]
        }
      ]
    },
    {
      "cell_type": "markdown",
      "source": [
        "**Xử lý File với Try Except Finally**"
      ],
      "metadata": {
        "id": "aa1gUbpiESnW"
      }
    },
    {
      "cell_type": "code",
      "source": [
        "# Python File Handling with Try Except Finally\n",
        "try:\n",
        "    file = open(\"myfile.txt\", \"w\")   # mở file ở chế độ ghi\n",
        "    file.write(\"Python write file\")\n",
        "    print(\"File saved successfully\")\n",
        "\n",
        "except Exception as e:\n",
        "    print(\"Exception file Error:\", e)\n",
        "\n",
        "finally:\n",
        "    file.close()\n",
        "    print(\"Finally process: file closed\")\n"
      ],
      "metadata": {
        "colab": {
          "base_uri": "https://localhost:8080/"
        },
        "id": "ZDpEuKXOESt3",
        "outputId": "1258f57b-b29c-41c2-c005-36c8818a32c9"
      },
      "execution_count": 432,
      "outputs": [
        {
          "output_type": "stream",
          "name": "stdout",
          "text": [
            "File saved successfully\n",
            "Finally process: file closed\n"
          ]
        }
      ]
    },
    {
      "cell_type": "markdown",
      "source": [
        "**File Handling with Try Except Finally**"
      ],
      "metadata": {
        "id": "zg5WsfXFEbMY"
      }
    },
    {
      "cell_type": "code",
      "source": [
        "# File Handling with Try Except Finally\n",
        "\n",
        "try:\n",
        "    file = open(\"myfile.txt\", 'w')   # mở file ở chế độ ghi\n",
        "    file.write(\"Python write file\")\n",
        "    print(\"file saved\")\n",
        "\n",
        "except:\n",
        "    print(\"Exception file Error\")\n",
        "\n",
        "finally:\n",
        "    file.close()\n",
        "    print(\"Finally process\")\n"
      ],
      "metadata": {
        "colab": {
          "base_uri": "https://localhost:8080/"
        },
        "id": "e71An9SREbSW",
        "outputId": "f293ee7a-97f3-48c9-85db-971ae92af91e"
      },
      "execution_count": 433,
      "outputs": [
        {
          "output_type": "stream",
          "name": "stdout",
          "text": [
            "file saved\n",
            "Finally process\n"
          ]
        }
      ]
    },
    {
      "cell_type": "markdown",
      "source": [
        "# Kết thúc"
      ],
      "metadata": {
        "id": "2i38wiCAnVrn"
      }
    }
  ]
}