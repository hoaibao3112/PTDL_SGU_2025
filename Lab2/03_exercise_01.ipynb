{
  "cells": [
    {
      "cell_type": "markdown",
      "id": "9d3700c7-00aa-4206-805f-a2b5c35bc176",
      "metadata": {
        "id": "9d3700c7-00aa-4206-805f-a2b5c35bc176"
      },
      "source": [
        "# Cơ bản về ngôn ngữ lập trình Python\n",
        "\n",
        "**Cách gõ trong ô Markdown**\n"
      ]
    },
    {
      "cell_type": "markdown",
      "id": "2d158c9e-12a4-4b5a-b703-0aea2ff00d02",
      "metadata": {
        "id": "2d158c9e-12a4-4b5a-b703-0aea2ff00d02"
      },
      "source": [
        "## 1. Nhập/xuất, biểu thức tính toán"
      ]
    },
    {
      "cell_type": "markdown",
      "id": "3074dd2a-18b9-44b1-8019-faa237e4e8dd",
      "metadata": {
        "id": "3074dd2a-18b9-44b1-8019-faa237e4e8dd"
      },
      "source": [
        "### Bài 1. Tính giá trị hàm số\n",
        "**Yêu cầu**: Hãy viết chương trình nhập vào số thực x và tính giá trị biểu thức:\n",
        "$$\n",
        "    f\\left(x\\right) = x + \\frac{x^5}{5!} + \\frac{\\sqrt{|x|}}{x^{3/2}}\n",
        "$$\n",
        "> Moi ban nhap vao gia tri cua bien so x: **2.3** <br/>\n",
        "> Gia tri cua ham so f(**2.3**) = **3.27**."
      ]
    },
    {
      "cell_type": "code",
      "execution_count": 54,
      "id": "66e97cd7-47a3-4011-8912-27ef003c4479",
      "metadata": {
        "colab": {
          "base_uri": "https://localhost:8080/"
        },
        "id": "66e97cd7-47a3-4011-8912-27ef003c4479",
        "outputId": "161ff91d-a1db-4ebe-c7ee-4fb314c2f32d"
      },
      "outputs": [
        {
          "output_type": "stream",
          "name": "stdout",
          "text": [
            "Nhập giá trị x: 2.3\n",
            "Giá trị của hàm số f(2.3) = 3.27\n"
          ]
        }
      ],
      "source": [
        "import math\n",
        "\n",
        "# Nhập giá trị x từ người dùng\n",
        "x = float(input(\"Nhập giá trị x: \"))\n",
        "\n",
        "# Tính giai thừa 5! bằng math.factorial\n",
        "factorial_5 = math.factorial(5)\n",
        "\n",
        "# Tính biểu thức f(x)\n",
        "fx = x + (x**5) / factorial_5 + (math.sqrt(abs(x))) / (x**(3/2))\n",
        "\n",
        "# In kết quả\n",
        "print(f\"Giá trị của hàm số f({x}) = {fx:.2f}\")\n"
      ]
    },
    {
      "cell_type": "markdown",
      "id": "239686a9-b07b-49cf-865f-848481810cf1",
      "metadata": {
        "id": "239686a9-b07b-49cf-865f-848481810cf1"
      },
      "source": [
        "### Bài 2. Đổi sang giờ phút giây\n",
        "Một thiết bị hoạt động được t giây. Hãy viết chương trình chuyển số giây đó dưới dạng số giờ, số phút và số giây.\n",
        ">Nhap vao tong so giay: **4810** <br/>\n",
        ">**4810** giay co dang **1:20:10**"
      ]
    },
    {
      "cell_type": "code",
      "execution_count": 55,
      "id": "ad9c7cc5-a62b-42aa-b19b-4383dc118098",
      "metadata": {
        "id": "ad9c7cc5-a62b-42aa-b19b-4383dc118098",
        "colab": {
          "base_uri": "https://localhost:8080/"
        },
        "outputId": "93e7c29c-343d-4cf3-b25a-4643d1b64799"
      },
      "outputs": [
        {
          "output_type": "stream",
          "name": "stdout",
          "text": [
            "Nhap vao tong so giay: 4810\n",
            "4810 giay co dang 1:20:10\n"
          ]
        }
      ],
      "source": [
        "# Nhập tổng số giây\n",
        "t = int(input(\"Nhap vao tong so giay: \"))\n",
        "\n",
        "# Tính số giờ, phút, giây\n",
        "gio = t // 3600  # 1 giờ = 3600 giây\n",
        "t_con_lai = t % 3600\n",
        "phut = t_con_lai // 60  # 1 phút = 60 giây\n",
        "giay = t_con_lai % 60\n",
        "\n",
        "# Xuất kết quả\n",
        "print(f\"{t} giay co dang {gio}:{phut:02d}:{giay:02d}\")"
      ]
    },
    {
      "cell_type": "markdown",
      "id": "17d60c56-c83c-4126-8003-e2ccba7b52ce",
      "metadata": {
        "id": "17d60c56-c83c-4126-8003-e2ccba7b52ce"
      },
      "source": [
        "## 2. Cấu trúc lựa chọn"
      ]
    },
    {
      "cell_type": "markdown",
      "id": "76774c9e-de62-4c88-817d-b1c4928dc12d",
      "metadata": {
        "id": "76774c9e-de62-4c88-817d-b1c4928dc12d"
      },
      "source": [
        "### Bài 3. Giải phuơng trình bậc 1\n",
        "Nhập 2 số thực $a$, $b$. Tìm nghiệm của phương trình bậc 1 $ax + b = 0$.\n",
        ">Moi ban nhap he so a: **1** <br/>\n",
        ">Moi ban nhap he so b: **5** <br/>\n",
        ">Phuong trinh **1x + 5 = 0** co **1** nghiem x = **-5.00**."
      ]
    },
    {
      "cell_type": "code",
      "execution_count": 56,
      "id": "073e5194-32f7-4e30-af77-f8173f70da26",
      "metadata": {
        "id": "073e5194-32f7-4e30-af77-f8173f70da26",
        "colab": {
          "base_uri": "https://localhost:8080/"
        },
        "outputId": "5f4c416c-eefa-4fde-ad94-2ccc76763234"
      },
      "outputs": [
        {
          "output_type": "stream",
          "name": "stdout",
          "text": [
            "Moi ban nhap he so a: 1\n",
            "Moi ban nhap he so b: 5\n",
            "Phuong trinh 1.0x + 5.0 = 0 co 1 nghiem x = -5.00.\n"
          ]
        }
      ],
      "source": [
        "# Nhập dữ liệu\n",
        "a = float(input('Moi ban nhap he so a: '))  # Sử dụng float thay vì int để nhận số thực\n",
        "b = float(input('Moi ban nhap he so b: '))\n",
        "\n",
        "# Xử lý\n",
        "if a == 0:  # Trường hợp a = 0\n",
        "    if b == 0:\n",
        "        flag = -1  # Vô số nghiệm\n",
        "    else:\n",
        "        flag = 0   # Vô nghiệm\n",
        "else:\n",
        "    flag = 1       # Có một nghiệm\n",
        "    x = -b / a     # Tính nghiệm x = -b/a\n",
        "\n",
        "# Xuất dữ liệu\n",
        "s = f'Phuong trinh {a}x + {b} = 0'\n",
        "if flag == -1:\n",
        "    print(f'{s} vo so nghiem.')\n",
        "elif flag == 0:\n",
        "    print(f'{s} vo nghiem.')\n",
        "else:\n",
        "    print(f'{s} co 1 nghiem x = {x:.2f}.')"
      ]
    },
    {
      "cell_type": "markdown",
      "id": "a865ace8-924e-47cc-8820-8c417d88b6ae",
      "metadata": {
        "id": "a865ace8-924e-47cc-8820-8c417d88b6ae"
      },
      "source": [
        "### Bài 4. Chuyển ký số sang số\n",
        "Nhập một chuỗi s là chuỗi biểu diễn ký tự số trong tiếng Anh gồm {zero, one, two, three, four, five, six, seven, eight, nine}. Hãy kiểm tra chuỗi nhập có hợp lệ không? Nếu hợp lệ thì in ra ký số của chuỗi đó và chuỗi ký số bên tiếng việt tương ứng.\n",
        "> Moi ban nhap chuoi ky so s: One <br/>\n",
        "> Chuoi vua nhap hop le!\n",
        "> \"One\" bieu dien so cho \"1\" va ung voi tieng Viet \"mot\".\n",
        "\n",
        "> Moi ban nhap chuoi ky so s: hello <br/>\n",
        "> Chuoi vua nhap khong hop le!"
      ]
    },
    {
      "cell_type": "code",
      "execution_count": 57,
      "id": "05d9f65b-4e99-4b6f-aba8-c285290b2c5e",
      "metadata": {
        "id": "05d9f65b-4e99-4b6f-aba8-c285290b2c5e",
        "colab": {
          "base_uri": "https://localhost:8080/"
        },
        "outputId": "93dd384e-6dcc-4940-8199-1abdcf4f1025"
      },
      "outputs": [
        {
          "output_type": "stream",
          "name": "stdout",
          "text": [
            "Moi ban nhap chuoi ky so s: one\n",
            "Chuoi vua nhap hop le! \"one\" bieu dien cho \"1\" va ung voi tieng Viet \"mot\".\n"
          ]
        }
      ],
      "source": [
        "s = input(\"Moi ban nhap chuoi ky so s: \")\n",
        "\n",
        "en = [\"zero\", \"one\", \"two\", \"three\", \"four\", \"five\", \"six\", \"seven\", \"eight\", \"nine\"]\n",
        "vi = [\"khong\", \"mot\", \"hai\", \"ba\", \"bon\", \"nam\", \"sau\", \"bay\", \"tam\", \"chin\"]\n",
        "num = [0, 1, 2, 3, 4, 5, 6, 7, 8, 9]\n",
        "\n",
        "# Xử lý\n",
        "s_lower = s.lower()  # Chuyển về chữ thường để so sánh\n",
        "if s_lower in en:  # Kiểm tra chuỗi có trong danh sách tiếng Anh không\n",
        "    index = en.index(s_lower)  # Tìm chỉ số của chuỗi trong danh sách en\n",
        "    print(f'Chuoi vua nhap hop le! \"{s}\" bieu dien cho \"{num[index]}\" va ung voi tieng Viet \"{vi[index]}\".')\n",
        "else:\n",
        "    print(\"Chuoi vua nhap khong hop le!\")"
      ]
    },
    {
      "cell_type": "markdown",
      "id": "35adaeca-5d98-44ee-8e80-bda70395f1a8",
      "metadata": {
        "id": "35adaeca-5d98-44ee-8e80-bda70395f1a8"
      },
      "source": [
        "## 3. Cấu trúc lặp"
      ]
    },
    {
      "cell_type": "markdown",
      "id": "6c087ac9-28da-4590-98f4-b1481da3582c",
      "metadata": {
        "id": "6c087ac9-28da-4590-98f4-b1481da3582c"
      },
      "source": [
        "### Bài 5. Tính tổng các số chẵn\n",
        "Nhập một số nguyên n. Hãy tính tổng các số chẵn từ 1 đến n.\n",
        "> Moi ban nhap so nguyen n: **100** <br>\n",
        "> Tong cac so chan tu 1 den **100** la **2550**."
      ]
    },
    {
      "cell_type": "code",
      "execution_count": 58,
      "id": "845506c4-f77f-4c2c-91b4-b34b33d6b2db",
      "metadata": {
        "id": "845506c4-f77f-4c2c-91b4-b34b33d6b2db",
        "colab": {
          "base_uri": "https://localhost:8080/"
        },
        "outputId": "c144d794-d97e-4f01-82ce-52413c153e13"
      },
      "outputs": [
        {
          "output_type": "stream",
          "name": "stdout",
          "text": [
            "Moi ban nhap so nguyen n: 100\n",
            "Tong cac so chan tu 1 den 100 la 2550.\n"
          ]
        }
      ],
      "source": [
        "# Nhập dữ liệu\n",
        "n = int(input(\"Moi ban nhap so nguyen n: \"))\n",
        "\n",
        "# Xử lý\n",
        "s = 0\n",
        "for i in range(2, n + 1, 2):  # Duyệt các số chẵn từ 2 đến n\n",
        "    s += i\n",
        "\n",
        "# Xuất dữ liệu\n",
        "print(f'Tong cac so chan tu 1 den {n} la {s}.')"
      ]
    },
    {
      "cell_type": "markdown",
      "id": "2ec9b4d3-6c99-46d5-9520-f01bbc73b844",
      "metadata": {
        "id": "2ec9b4d3-6c99-46d5-9520-f01bbc73b844"
      },
      "source": [
        "### Bài 6. Kiểm tra số nguyên tố\n",
        "\n",
        "Nhập vào một số nguyên dương n. Hãy kiểm tra xem n có phải là nguyên tố không?\n",
        "> Moi nhap nhap so nguyen n: **10** <br/>\n",
        "> **10** khong phai la so nguyen to.\n",
        "\n",
        "> Moi nhap nhap so nguyen n: **97** <br/>\n",
        "> **97** la so nguyen to.\n",
        "\n",
        "**Lưu ý**: n là số nguyên tố khi và chỉ khi không tồn tại số nguyên từ $2$ đến $\\sqrt(n)$ mà chia hết cho n."
      ]
    },
    {
      "cell_type": "code",
      "execution_count": 59,
      "id": "c8ef7876-623d-4d8b-95be-87e26917b8d8",
      "metadata": {
        "id": "c8ef7876-623d-4d8b-95be-87e26917b8d8",
        "colab": {
          "base_uri": "https://localhost:8080/"
        },
        "outputId": "4c94c226-0e4c-42e2-c2c0-84aa10afa0a3"
      },
      "outputs": [
        {
          "output_type": "stream",
          "name": "stdout",
          "text": [
            "Me nhap nhap so nguyen n: 10\n",
            "10 khong phai la so nguyen to.\n",
            "Me nhap nhap so nguyen n: 97\n",
            "97 la so nguyen to.\n"
          ]
        }
      ],
      "source": [
        "while True:\n",
        "    try:\n",
        "        # Nhập dữ liệu\n",
        "        n = int(input(\"Me nhap nhap so nguyen n: \"))\n",
        "\n",
        "        # Xử lý\n",
        "        lant = True  # Giả sử n là số nguyên tố\n",
        "        if n < 2:  # Số nhỏ hơn 2 không phải là số nguyên tố\n",
        "            lant = False\n",
        "        else:\n",
        "            for i in range(2, int(n ** 0.5) + 1):  # Kiểm tra từ 2 đến căn bậc hai của n\n",
        "                if n % i == 0:  # Nếu n chia hết cho i\n",
        "                    lant = False\n",
        "                    break  # Thoát vòng lặp nếu tìm thấy ước\n",
        "\n",
        "        # Xuất dữ liệu\n",
        "        if lant == True:\n",
        "            print(f'{n} la so nguyen to.')\n",
        "            break  # Thoát chương trình nếu tìm thấy số nguyên tố\n",
        "        else:\n",
        "            print(f'{n} khong phai la so nguyen to.')\n",
        "\n",
        "    except ValueError:  # Nếu nhập không phải số nguyên\n",
        "        break  # Thoát chương trình"
      ]
    },
    {
      "cell_type": "markdown",
      "id": "0c3feb44-c1e0-4666-8651-26ef140902dd",
      "metadata": {
        "id": "0c3feb44-c1e0-4666-8651-26ef140902dd"
      },
      "source": [
        "## 4. Xử lý ngoại lệ và hàm số"
      ]
    },
    {
      "cell_type": "markdown",
      "id": "31eff98b-ff44-455c-bbe5-7d0d073ebe16",
      "metadata": {
        "id": "31eff98b-ff44-455c-bbe5-7d0d073ebe16"
      },
      "source": [
        "### Bài 7. Giải phương trình bậc 2\n",
        "Nhập 3 số thực a, b, c (có kiểm tra dữ liệu nhập số thực). Hãy xây dựng hàm giải phương trình bậc 2 $ax^2+bx+c=0$ và in kết quả giải ra màn hình.\n",
        "> Moi ban nhap he so a, b, c:  **a b c**<br/>\n",
        "> Ban nhap sai! Moi ban nhap lai!<br/>\n",
        "> Moi ban nhap he so a, b, c:  **1 a 3**<br/>\n",
        "> Ban nhap sai! Moi ban nhap lai!<br/>\n",
        "> Moi ban nhap he so a, b, c: **1 5 6**<br/>\n",
        "> Phuong trinh bac 2 **1x^2 + 5x + 6 = 0** co **2**  nghiem x1 = **-2.00**, x2 = **-3.00**."
      ]
    },
    {
      "cell_type": "code",
      "execution_count": 60,
      "id": "2a05bbed-f93b-4aec-bb26-f784f78421e4",
      "metadata": {
        "id": "2a05bbed-f93b-4aec-bb26-f784f78421e4",
        "colab": {
          "base_uri": "https://localhost:8080/"
        },
        "outputId": "a3280fc4-7110-4516-c91e-80095e11d25b"
      },
      "outputs": [
        {
          "output_type": "stream",
          "name": "stdout",
          "text": [
            "Moi ban nhap he so a, b, c: a b c\n",
            "Ban nhap sai! Moi ban nhap lai!\n",
            "Moi ban nhap he so a, b, c: 1 a 3\n",
            "Ban nhap sai! Moi ban nhap lai!\n",
            "Moi ban nhap he so a, b, c: 1 5 6\n",
            "Phuong trinh bac 2 1.0x^2 + 5.0x + 6.0 = 0 co 2 nghiem x1 = -2.00, x2 = -3.00.\n"
          ]
        }
      ],
      "source": [
        "import math\n",
        "\n",
        "def NhapDuLieu():\n",
        "    while True:\n",
        "        try:\n",
        "            a, b, c = map(float, input(\"Moi ban nhap he so a, b, c: \").split())\n",
        "            return a, b, c\n",
        "        except ValueError:\n",
        "            print(\"Ban nhap sai! Moi ban nhap lai!\")\n",
        "\n",
        "def GiaiPhuongTrinhBac2(a, b, c):\n",
        "    \"\"\"\n",
        "    Input: a, b, c\n",
        "    Output:\n",
        "    + flag = -1 (VSN), 0 (VN), k (k nghiem)\n",
        "    + () --> flag = -1, 0\n",
        "    + (x) --> flag = 1\n",
        "    + (x1, x2) --> flag = 2\n",
        "    \"\"\"\n",
        "    flag = None\n",
        "    x = ()\n",
        "\n",
        "    if a == 0:  # Trường hợp phương trình bậc 1: bx + c = 0\n",
        "        if b == 0:\n",
        "            if c == 0:\n",
        "                flag = -1\n",
        "                x = ()\n",
        "            else:\n",
        "                flag = 0\n",
        "                x = ()\n",
        "        else:\n",
        "            flag = 1\n",
        "            x = (-c / b,)\n",
        "    else:  # Trường hợp phương trình bậc 2\n",
        "        delta = b**2 - 4*a*c\n",
        "        if delta > 0:\n",
        "            flag = 2\n",
        "            x1 = (-b + math.sqrt(delta)) / (2*a)\n",
        "            x2 = (-b - math.sqrt(delta)) / (2*a)\n",
        "            x = (x1, x2)\n",
        "        elif delta == 0:\n",
        "            flag = 1\n",
        "            x = (-b / (2*a),)\n",
        "        else:\n",
        "            flag = 0\n",
        "            x = ()\n",
        "\n",
        "    return flag, x\n",
        "\n",
        "# Kiểm tra hàm\n",
        "a, b, c = NhapDuLieu()\n",
        "flag, x = GiaiPhuongTrinhBac2(a, b, c)\n",
        "\n",
        "# Xuất dữ liệu\n",
        "s = f\"Phuong trinh bac 2 {a}x^2 + {b}x + {c} = 0 co \"\n",
        "if flag == -1:\n",
        "    print(s + \"vo so nghiem.\")\n",
        "elif flag == 0:\n",
        "    print(s + \"vo nghiem.\")\n",
        "elif flag == 1:\n",
        "    print(s + f\"1 nghiem x = {x[0]:.2f}.\")\n",
        "else:  # flag == 2\n",
        "    print(s + f\"2 nghiem x1 = {x[0]:.2f}, x2 = {x[1]:.2f}.\")"
      ]
    },
    {
      "cell_type": "code",
      "execution_count": 61,
      "id": "142a6409-22ab-48fe-bded-904f389d9bd7",
      "metadata": {
        "id": "142a6409-22ab-48fe-bded-904f389d9bd7",
        "colab": {
          "base_uri": "https://localhost:8080/"
        },
        "outputId": "e784e146-6afe-4039-b58c-62168ac948d3"
      },
      "outputs": [
        {
          "name": "stdout",
          "output_type": "stream",
          "text": [
            "Moi ban nhap he so a, b, c: 1 5 6 \n"
          ]
        }
      ],
      "source": [
        "# Kiểm tra hàm\n",
        "a, b, c = NhapDuLieu()"
      ]
    },
    {
      "cell_type": "code",
      "execution_count": 62,
      "id": "604c3a62-ccf1-446b-8455-b24f37d2008d",
      "metadata": {
        "id": "604c3a62-ccf1-446b-8455-b24f37d2008d"
      },
      "outputs": [],
      "source": [
        "def GiaiPhuongTrinhBac2(a, b, c):\n",
        "    \"\"\"\n",
        "    Input: a, b, c\n",
        "    Output:\n",
        "    + flag = -1 (VSN), 0 (VN), k (k nghiem)\n",
        "    + () --> flag = -1, 0\n",
        "    + (x) --> flag = 1\n",
        "    + (x1, x2) --> flag = 2\n",
        "    \"\"\"\n",
        "    import math\n",
        "    flag = None\n",
        "    x = ()\n",
        "\n",
        "    # Xử lý\n",
        "    if a == 0:  # Trường hợp phương trình bậc 1: bx + c = 0\n",
        "        if b == 0:\n",
        "            if c == 0:\n",
        "                flag = -1  # Vô số nghiệm\n",
        "                x = ()     # Tuple rỗng\n",
        "            else:\n",
        "                flag = 0   # Vô nghiệm\n",
        "                x = ()     # Tuple rỗng\n",
        "        else:\n",
        "            flag = 1       # Một nghiệm\n",
        "            x = (-c / b,)  # Tuple chứa một nghiệm\n",
        "    else:  # Trường hợp phương trình bậc 2\n",
        "        delta = b**2 - 4*a*c\n",
        "        if delta > 0:\n",
        "            flag = 2\n",
        "            x1 = (-b + math.sqrt(delta)) / (2*a)\n",
        "            x2 = (-b - math.sqrt(delta)) / (2*a)\n",
        "            x = (x1, x2)  # Tuple chứa hai nghiệm\n",
        "        elif delta == 0:\n",
        "            flag = 1\n",
        "            x = (-b / (2*a),)  # Tuple chứa một nghiệm kép\n",
        "        else:\n",
        "            flag = 0\n",
        "            x = ()  # Tuple rỗng (vô nghiệm)\n",
        "\n",
        "    return flag, x"
      ]
    },
    {
      "cell_type": "code",
      "execution_count": 63,
      "id": "026317a6-6f3a-4d67-a53c-9e8623aa7718",
      "metadata": {
        "id": "026317a6-6f3a-4d67-a53c-9e8623aa7718",
        "colab": {
          "base_uri": "https://localhost:8080/"
        },
        "outputId": "aadd79e8-8643-40f5-8ab5-fa87f8a96fca"
      },
      "outputs": [
        {
          "output_type": "stream",
          "name": "stdout",
          "text": [
            "a = 0\n",
            "So nghiem: -1, nghiem = ()\n",
            "So nghiem: 0, nghiem = ()\n",
            "So nghiem: 1, nghiem = (-1.2,)\n",
            "a <> 0\n",
            "So nghiem: 0, nghiem = ()\n",
            "So nghiem: 1, nghiem = (-1.0,)\n",
            "So nghiem: 2, nghiem = (-2.0, -3.0)\n"
          ]
        }
      ],
      "source": [
        "print(\"a = 0\")\n",
        "flag, x = GiaiPhuongTrinhBac2(0, 0, 0)\n",
        "print(f'So nghiem: {flag}, nghiem = {x}')\n",
        "flag, x = GiaiPhuongTrinhBac2(0, 0, 5)\n",
        "print(f'So nghiem: {flag}, nghiem = {x}')\n",
        "flag, x = GiaiPhuongTrinhBac2(0, 5, 6)\n",
        "print(f'So nghiem: {flag}, nghiem = {x}')\n",
        "\n",
        "print(\"a <> 0\")\n",
        "flag, x = GiaiPhuongTrinhBac2(5, 1, 2)\n",
        "print(f'So nghiem: {flag}, nghiem = {x}')\n",
        "flag, x = GiaiPhuongTrinhBac2(1, 2, 1)\n",
        "print(f'So nghiem: {flag}, nghiem = {x}')\n",
        "flag, x = GiaiPhuongTrinhBac2(1, 5, 6)\n",
        "print(f'So nghiem: {flag}, nghiem = {x}')"
      ]
    },
    {
      "cell_type": "code",
      "execution_count": 64,
      "id": "2977bb76-9c3e-4395-acd9-9b53183e3a9c",
      "metadata": {
        "id": "2977bb76-9c3e-4395-acd9-9b53183e3a9c",
        "colab": {
          "base_uri": "https://localhost:8080/"
        },
        "outputId": "1a170d7d-b383-4a49-fa9f-b787fe1005bb"
      },
      "outputs": [
        {
          "output_type": "stream",
          "name": "stdout",
          "text": [
            "Moi ban nhap he so a, b, c: 1 5 6\n",
            "Phuong trinh bac 2 1.0x^2 + 5.0x + 6.0 = 0 co 2 nghiem, x1 = -2.0, x2 = -3.0!\n"
          ]
        }
      ],
      "source": [
        "# Kết nối bài\n",
        "a, b, c = NhapDuLieu()\n",
        "# Gọi hàm giải\n",
        "flag, x = GiaiPhuongTrinhBac2(1, 5, 6)\n",
        "# Xuất dữ liệu\n",
        "s = f'Phuong trinh bac 2 {a}x^2 + {b}x + {c} = 0'\n",
        "if flag == -1:\n",
        "    print(f'{s} co vo so nghiem!')\n",
        "elif flag == 0:\n",
        "    print(f'{s} vo nghiem!')\n",
        "elif flag == 1:\n",
        "    print(f'{s} co 1 nghiem, x = {x[0]}!')\n",
        "elif flag == 2:\n",
        "    print(f'{s} co 2 nghiem, x1 = {x[0]}, x2 = {x[1]}!')\n",
        "# if"
      ]
    },
    {
      "cell_type": "markdown",
      "id": "218d3938-7f4e-4097-a412-08c165ef910e",
      "metadata": {
        "id": "218d3938-7f4e-4097-a412-08c165ef910e"
      },
      "source": [
        "## 5. Dữ liệu nâng cao (List, Tuple, Set, Dictionary)"
      ]
    },
    {
      "cell_type": "markdown",
      "id": "e65d22f7-3801-40c4-af55-502bf5f61fb7",
      "metadata": {
        "id": "e65d22f7-3801-40c4-af55-502bf5f61fb7"
      },
      "source": [
        "### Bài 8. Các thao tác xử lý mảng số\n",
        "\n",
        "Viết chương trình xây dựng các hàm sau cho List và kiểm tra tính đúng đắn của các hàm số:\n",
        "+ Nhập một mảng số từ bàn phím cách nhau bởi khoảng trắng. Xuất mảng ra màn hình. <br/>\n",
        "+ Sinh một mảng số ngẫu nhiên có n phần tử trong khoảng a, b.\n",
        "+ Tính tổng của mảng số, đếm các phần tử chẵn, lẻ trong mảng.\n",
        "+ Cho một mảng số, hãy trả về dãy chẳn, dãy lẻ.\n",
        "\n",
        "> a = NhapMang() <br/>\n",
        "> XuatMang(a) <br/>\n",
        "> b = SinhNgauNhien(10, -10, 10) <br/>\n",
        "> XuatMang(b) <br/>\n",
        "> tong, chan, le = TinhTongChanLe(b) <br/>\n",
        "> a_chan, a_le = TimChanLe(b) <br/>"
      ]
    },
    {
      "cell_type": "code",
      "execution_count": 65,
      "id": "0198d726-ca73-4d42-ab0c-337a50228bb6",
      "metadata": {
        "id": "0198d726-ca73-4d42-ab0c-337a50228bb6",
        "colab": {
          "base_uri": "https://localhost:8080/"
        },
        "outputId": "0d8d87c1-8843-4c7d-daf4-8db0516ca8ee"
      },
      "outputs": [
        {
          "output_type": "stream",
          "name": "stdout",
          "text": [
            "Nhập mảng từ bàn phím:\n",
            "Nhập các số cách nhau bởi khoảng trắng: 16\n",
            "Mảng: [16]\n",
            "\n",
            "Sinh mảng ngẫu nhiên:\n",
            "Mảng: [8, 9, -4, -9, 9, -10, 1, -6, -7, 4]\n",
            "Tổng mảng: -5\n",
            "Số phần tử chẵn: 5\n",
            "Số phần tử lẻ: 5\n",
            "Dãy chẵn: [8, -4, -10, -6, 4]\n",
            "Dãy lẻ: [9, -9, 9, 1, -7]\n"
          ]
        }
      ],
      "source": [
        "import random\n",
        "\n",
        "def NhapMang():\n",
        "    \"\"\"\n",
        "    Nhập mảng số từ bàn phím, các số cách nhau bởi khoảng trắng.\n",
        "    Input: Chuỗi số từ bàn phím, ví dụ: \"1 4 1 2 3 4 1 2 3 3 1 2 3 4 10 2\"\n",
        "    Output: List chứa các số, ví dụ: [1, 4, 1, 2, 3, 4, 1, 2, 3, 3, 1, 2, 3, 4, 10, 2]\n",
        "    \"\"\"\n",
        "    # Nhập chuỗi từ bàn phím và chuyển thành list các số nguyên\n",
        "    s = input(\"Nhập các số cách nhau bởi khoảng trắng: \")\n",
        "    a = [int(x) for x in s.split()]\n",
        "    return a\n",
        "\n",
        "def XuatMang(a):\n",
        "    \"\"\"\n",
        "    Xuất mảng ra màn hình\n",
        "    Input: List a\n",
        "    Output: In mảng a\n",
        "    \"\"\"\n",
        "    print(\"Mảng:\", a)\n",
        "\n",
        "def SinhNgauNhien(n, a, b):\n",
        "    \"\"\"\n",
        "    Sinh mảng số ngẫu nhiên có n phần tử trong khoảng [a, b]\n",
        "    Input: n (số phần tử), a (giới hạn dưới), b (giới hạn trên)\n",
        "    Output: List chứa n số ngẫu nhiên\n",
        "    \"\"\"\n",
        "    return [random.randint(a, b) for _ in range(n)]\n",
        "\n",
        "def TinhTongChanLe(a):\n",
        "    \"\"\"\n",
        "    Tính tổng mảng, đếm số phần tử chẵn và lẻ\n",
        "    Input: List a\n",
        "    Output: Tuple (tổng, số chẵn, số lẻ)\n",
        "    \"\"\"\n",
        "    tong = sum(a)\n",
        "    chan = len([x for x in a if x % 2 == 0])\n",
        "    le = len(a) - chan\n",
        "    return tong, chan, le\n",
        "\n",
        "def TimChanLe(a):\n",
        "    \"\"\"\n",
        "    Trả về dãy chẵn và dãy lẻ từ mảng a\n",
        "    Input: List a\n",
        "    Output: Tuple (dãy chẵn, dãy lẻ)\n",
        "    \"\"\"\n",
        "    a_chan = [x for x in a if x % 2 == 0]\n",
        "    a_le = [x for x in a if x % 2 != 0]\n",
        "    return a_chan, a_le\n",
        "\n",
        "# Kiểm tra tính đúng đắn\n",
        "def main():\n",
        "    # Test NhapMang và XuatMang\n",
        "    print(\"Nhập mảng từ bàn phím:\")\n",
        "    a = NhapMang()\n",
        "    XuatMang(a)\n",
        "\n",
        "    # Test SinhNgauNhien\n",
        "    print(\"\\nSinh mảng ngẫu nhiên:\")\n",
        "    b = SinhNgauNhien(10, -10, 10)\n",
        "    XuatMang(b)\n",
        "\n",
        "    # Test TinhTongChanLe\n",
        "    tong, chan, le = TinhTongChanLe(b)\n",
        "    print(f\"Tổng mảng: {tong}\")\n",
        "    print(f\"Số phần tử chẵn: {chan}\")\n",
        "    print(f\"Số phần tử lẻ: {le}\")\n",
        "\n",
        "    # Test TimChanLe\n",
        "    a_chan, a_le = TimChanLe(b)\n",
        "    print(\"Dãy chẵn:\", a_chan)\n",
        "    print(\"Dãy lẻ:\", a_le)\n",
        "\n",
        "# Chạy chương trình\n",
        "if __name__ == \"__main__\":\n",
        "    main()"
      ]
    },
    {
      "cell_type": "code",
      "execution_count": 66,
      "id": "c3b4c530-34f8-445b-bf69-5864e08bdb97",
      "metadata": {
        "id": "c3b4c530-34f8-445b-bf69-5864e08bdb97",
        "colab": {
          "base_uri": "https://localhost:8080/"
        },
        "outputId": "89df2f39-2425-46b4-d86b-cd6f71a1a219"
      },
      "outputs": [
        {
          "output_type": "stream",
          "name": "stdout",
          "text": [
            "Nhập các số cách nhau bởi khoảng trắng: 16\n",
            "[16]\n"
          ]
        }
      ],
      "source": [
        "a = NhapMang() # 1 4 1 2 3 4 1 2 3 3 1 2 3 4 10 2\n",
        "print(a)"
      ]
    },
    {
      "cell_type": "code",
      "execution_count": 67,
      "id": "424c3606-f2b4-4000-b5b9-7237f96f4a34",
      "metadata": {
        "id": "424c3606-f2b4-4000-b5b9-7237f96f4a34"
      },
      "outputs": [],
      "source": [
        "def XuatMang(a):\n",
        "    \"\"\"\n",
        "    Input:\n",
        "        a = [1, 4, 1, 2, 3, 4, 1, 2, 3, 3, 1, 2, 3, 4, 10, 2]\n",
        "    Output:\n",
        "        In ra man hinh:\n",
        "            Mang co 16 phan tu: 1 4 1 2 3 4 1 2 3 3 1 2 3 4 10 2\n",
        "    \"\"\"\n",
        "    # In số lượng phần tử và các phần tử của mảng\n",
        "    print(f\"Mang co {len(a)} phan tu: {' '.join(map(str, a))}\")"
      ]
    },
    {
      "cell_type": "code",
      "execution_count": 68,
      "id": "a1cdc488-a080-47cb-bd06-42b12b47f84e",
      "metadata": {
        "id": "a1cdc488-a080-47cb-bd06-42b12b47f84e",
        "colab": {
          "base_uri": "https://localhost:8080/"
        },
        "outputId": "fc731947-89bf-457f-b101-c92d53ac8bef"
      },
      "outputs": [
        {
          "output_type": "stream",
          "name": "stdout",
          "text": [
            "Mang co 16 phan tu: 1 4 1 2 3 4 1 2 3 3 1 2 3 4 10 2\n"
          ]
        }
      ],
      "source": [
        "a = [1, 4, 1, 2, 3, 4, 1, 2, 3, 3, 1, 2, 3, 4, 10, 2]\n",
        "XuatMang(a)"
      ]
    },
    {
      "cell_type": "code",
      "execution_count": 69,
      "id": "c3b401bb-877e-4a2e-8940-81e79411c826",
      "metadata": {
        "id": "c3b401bb-877e-4a2e-8940-81e79411c826"
      },
      "outputs": [],
      "source": [
        "import random\n",
        "\n",
        "def SinhNgauNhien(n, vmin=-10, vmax=10):\n",
        "    \"\"\"\n",
        "    Input:\n",
        "        n = 30, vmin = -10, vmax = 10\n",
        "    Output:\n",
        "        a = [-1, -4, -8, 6, 4, -5, -1, -4, -9, -5, -10, 0, -6, 2, 1, -9, -9, 10, -8, -9, -7, 9, 2, -4, -1, -6, 5, -6, 9, -8]\n",
        "    \"\"\"\n",
        "    a = [random.randint(vmin, vmax) for _ in range(n)]\n",
        "    return a"
      ]
    },
    {
      "cell_type": "code",
      "execution_count": 70,
      "id": "d1b76bc2-f9ae-4a7a-9dcb-36e80e96ebd5",
      "metadata": {
        "id": "d1b76bc2-f9ae-4a7a-9dcb-36e80e96ebd5",
        "colab": {
          "base_uri": "https://localhost:8080/"
        },
        "outputId": "78fef802-a6bb-4ad0-e30a-cb934c3ca204"
      },
      "outputs": [
        {
          "output_type": "stream",
          "name": "stdout",
          "text": [
            "[6, -9, 7, -10, 10, 9, -9, 7, 4, 3, 7, 4, 2, -8, -8, -5, 7, 8, 3, 0, 8, -3, 7, -1, -8, -9, 7, 9, -6, 1]\n",
            "[5, 8, 6, 9, 1, 2, 6, 10, 0, 7, 7, 4, 7, 6, 9, 3, 3, 8, 6, 8, 8, 8, 0, 4, 0, 4, 5, 1, 4, 1]\n",
            "[-8, -1, -9, -1, -4, -6, -10, -10, 2, -9, 1, -7, -10, -7, -7, -9, 1, -3, -3, -10, -2, -4, -2, -8, -2, -8, -8, -3, -8, -7]\n"
          ]
        }
      ],
      "source": [
        "b = SinhNgauNhien(30, -10, 10)\n",
        "print(b)\n",
        "b = SinhNgauNhien(30, vmin = 0)\n",
        "print(b)\n",
        "b = SinhNgauNhien(30, vmax = 2)\n",
        "print(b)"
      ]
    },
    {
      "cell_type": "code",
      "execution_count": 71,
      "id": "e710b533-d63d-4a08-a70f-e593f5ff3612",
      "metadata": {
        "id": "e710b533-d63d-4a08-a70f-e593f5ff3612",
        "colab": {
          "base_uri": "https://localhost:8080/"
        },
        "outputId": "fa361bd9-7f4e-4e58-c3ea-d8365b7f1a8d"
      },
      "outputs": [
        {
          "output_type": "stream",
          "name": "stdout",
          "text": [
            "[-4, -8, 3, 2, 4, 5, 8, 10, 6, 0, -6, -8, -6, 9, -4, 8, 10, -3, 4, 3, 2, -5, -4, -4, -6, -5, 8, -3, -8, 6]\n",
            "[5, 2, 0, 5, 8, 8, 4, 0, 1, 4, 6, 7, 9, 9, 0, 3, 9, 0, 10, 7, 3, 7, 3, 6, 2, 2, 1, 6, 7, 5]\n",
            "[-3, -1, -10, -4, -10, -5, 1, -9, 1, 2, -3, -5, 0, -5, -6, -10, 2, 1, -7, 0, -5, -10, -7, -5, -5, 0, -10, 1, -4, -2]\n"
          ]
        }
      ],
      "source": [
        "import random\n",
        "def SinhNgauNhien(n, vmin = -10, vmax = 10):\n",
        "    \"\"\"\n",
        "    Input:\n",
        "        n = 30, vmin = -10, vmax = 10\n",
        "    Output:\n",
        "        a = [-1, -4, -8, 6, 4, -5, -1, -4, -9, -5, -10, 0, -6, 2, 1, -9, -9, 10, -8, -9, -7, 9, 2, -4, -1, -6, 5, -6, 9, -8]\n",
        "    \"\"\"\n",
        "    a = []\n",
        "    for _ in range(n):\n",
        "        a.append(random.randint(vmin, vmax))\n",
        "\n",
        "    return a\n",
        "\n",
        "b = SinhNgauNhien(30, -10, 10)\n",
        "print(b)\n",
        "b = SinhNgauNhien(30, vmin = 0)\n",
        "print(b)\n",
        "b = SinhNgauNhien(30, vmax = 2)\n",
        "print(b)"
      ]
    },
    {
      "cell_type": "code",
      "execution_count": 72,
      "id": "44c8959b-84fa-4174-83b3-18fc02152a04",
      "metadata": {
        "id": "44c8959b-84fa-4174-83b3-18fc02152a04",
        "colab": {
          "base_uri": "https://localhost:8080/"
        },
        "outputId": "88b2fa9d-b35a-426e-ba8f-5944bcd137ff"
      },
      "outputs": [
        {
          "output_type": "stream",
          "name": "stdout",
          "text": [
            "Tổng các số: -31\n",
            "Số lượng số chẵn: 17\n",
            "Số lượng số lẻ: 13\n"
          ]
        }
      ],
      "source": [
        "def DemTongChanLe(a):\n",
        "    \"\"\"\n",
        "    Input: a[] = [1, 4, 2, 0, -1, -7, 3, -6, 4, 9, -5, 7, 7, -7, -10, 1, -10, 9, -4, -6, 10, -2, -10, -8, -3, 2, -7, -10, 6, 0]\n",
        "    Output: tong, sochan, sole\n",
        "    \"\"\"\n",
        "    tong = 0\n",
        "    sochan = 0\n",
        "    sole = 0\n",
        "    for num in a:\n",
        "        tong += num  # Tính tổng tất cả các số\n",
        "\n",
        "        if num % 2 == 0:  # Kiểm tra số chẵn\n",
        "            sochan += 1\n",
        "        else:  # Số lẻ\n",
        "            sole += 1\n",
        "\n",
        "    return tong, sochan, sole\n",
        "\n",
        "# Test hàm với dữ liệu mẫu\n",
        "if __name__ == \"__main__\":\n",
        "    a = [1, 4, 2, 0, -1, -7, 3, -6, 4, 9, -5, 7, 7, -7, -10, 1, -10, 9, -4, -6, 10, -2, -10, -8, -3, 2, -7, -10, 6, 0]\n",
        "    tong, sochan, sole = DemTongChanLe(a)\n",
        "\n",
        "    print(f\"Tổng các số: {tong}\")\n",
        "    print(f\"Số lượng số chẵn: {sochan}\")\n",
        "    print(f\"Số lượng số lẻ: {sole}\")"
      ]
    },
    {
      "cell_type": "code",
      "source": [],
      "metadata": {
        "id": "bNBhUwlUeG7Q"
      },
      "id": "bNBhUwlUeG7Q",
      "execution_count": 72,
      "outputs": []
    },
    {
      "cell_type": "code",
      "execution_count": 73,
      "id": "2627b2c2-ab2c-4774-8932-5db03e813a20",
      "metadata": {
        "id": "2627b2c2-ab2c-4774-8932-5db03e813a20",
        "colab": {
          "base_uri": "https://localhost:8080/"
        },
        "outputId": "396be126-9b80-4d92-bd4a-3a59e4ee5736"
      },
      "outputs": [
        {
          "output_type": "stream",
          "name": "stdout",
          "text": [
            "([4, 2, 0, -6, 4, -10, -10, -4, -6, 10, -2, -10, -8, 2, -10, 6, 0], [1, -1, -7, 3, 9, -5, 7, 7, -7, 1, 9, -3, -7])\n",
            "([6, 0, 8, 8, 10, 0, 0, 2, 10, 10, 8, 2, 8, 4, 4, 6, 2], [9, 5, 1, 1, 1, 7, 1, 9, 1, 5, 5, 5, 3])\n"
          ]
        }
      ],
      "source": [
        "def DayChanLe(a):\n",
        "    \"\"\"\n",
        "    Đầu vào:\n",
        "        a = [1, 4, 2, 0, -1, -7, 3, -6, 4, 9, -5, 7, 7, -7, -10, 1, -10, 9, -4, -6, 10, -2, -10, -8, -3, 2, -7, -10, 6, 0]\n",
        "    Đầu ra: (achan, ale)\n",
        "        achan = [4, 2, 0, -6, 4, -10, -10, -4, -6, 10, -2, -10, -8, 2, -10, 6, 0]\n",
        "        ale = [1, -1, -7, 3, 9, -5, 7, 7, -7, 1, 9, -3, -7]\n",
        "    \"\"\"\n",
        "    achan = []  # Danh sách chứa số chẵn\n",
        "    ale = []    # Danh sách chứa số lẻ\n",
        "\n",
        "    for num in a:\n",
        "        if num % 2 == 0:  # Nếu số là chẵn\n",
        "            achan.append(num)\n",
        "        else:  # Nếu số là lẻ\n",
        "            ale.append(num)\n",
        "\n",
        "    return achan, ale\n",
        "\n",
        "# Trường hợp kiểm tra\n",
        "a = [1, 4, 2, 0, -1, -7, 3, -6, 4, 9, -5, 7, 7, -7, -10, 1, -10, 9, -4, -6, 10, -2, -10, -8, -3, 2, -7, -10, 6, 0]\n",
        "print(DayChanLe(a))\n",
        "a = [9, 6, 5, 0, 8, 8, 1, 10, 0, 0, 1, 1, 2, 7, 1, 10, 9, 1, 10, 8, 2, 8, 4, 5, 4, 5, 5, 3, 6, 2]\n",
        "print(DayChanLe(a))"
      ]
    },
    {
      "cell_type": "code",
      "execution_count": 74,
      "id": "a9d76464-34d9-4b35-9250-8f9ab9b06a88",
      "metadata": {
        "id": "a9d76464-34d9-4b35-9250-8f9ab9b06a88",
        "colab": {
          "base_uri": "https://localhost:8080/"
        },
        "outputId": "80b512aa-5a16-4710-b1bb-d606b509e908"
      },
      "outputs": [
        {
          "output_type": "stream",
          "name": "stdout",
          "text": [
            "DayChanLe:\n",
            "Chan = [4, 2, 0, -6, 4, -10, -10, -4, -6, 10, -2, -10, -8, 2, -10, 6, 0]\n",
            "Le = [1, -1, -7, 3, 9, -5, 7, 7, -7, 1, 9, -3, -7]\n",
            "\n"
          ]
        }
      ],
      "source": [
        "a = [1, 4, 2, 0, -1, -7, 3, -6, 4, 9, -5, 7, 7, -7, -10, 1, -10, 9, -4, -6, 10, -2, -10, -8, -3, 2, -7, -10, 6, 0]\n",
        "achan, ale = DayChanLe(a)\n",
        "print(f'DayChanLe:\\nChan = {achan}\\nLe = {ale}\\n')"
      ]
    },
    {
      "cell_type": "markdown",
      "id": "7c5fdb97-5b63-415f-84fc-1edd4fdce982",
      "metadata": {
        "id": "7c5fdb97-5b63-415f-84fc-1edd4fdce982"
      },
      "source": [
        "### Bài 9. Các thao tác trên tập hợp, từ điển\n",
        "\n",
        "Viết chương trình nhập vào một dãy ký tự a cách nhau bởi khoảng trắng. Hãy thực hiện:\n",
        "+ In các ký tự trong a không trùng nhau và được sắp theo thứ tự tăng dần\n",
        "+ Đếm số lần xuất hiện các ký tự trong dãy a\n"
      ]
    },
    {
      "cell_type": "code",
      "execution_count": 75,
      "id": "fe04c02c-1165-4cb1-a6f5-0c12ad9d1060",
      "metadata": {
        "id": "fe04c02c-1165-4cb1-a6f5-0c12ad9d1060",
        "colab": {
          "base_uri": "https://localhost:8080/"
        },
        "outputId": "0e46d18b-741b-496a-8316-7bd4fed010dd"
      },
      "outputs": [
        {
          "output_type": "stream",
          "name": "stdout",
          "text": [
            "Nhập dãy ký tự cách nhau bởi khoảng trắng: A G C A C F F T H\n",
            "\n",
            "Các ký tự không trùng nhau (sắp xếp tăng dần):\n",
            "['A', 'C', 'F', 'G', 'H', 'T']\n",
            "\n",
            "Số lần xuất hiện của các ký tự:\n",
            "'A': 2\n",
            "'G': 1\n",
            "'C': 2\n",
            "'F': 2\n",
            "'T': 1\n",
            "'H': 1\n"
          ]
        }
      ],
      "source": [
        "def XuLyKhongTrung(a):\n",
        "    \"\"\"\n",
        "    Input:\n",
        "    a = ['A', 'G', 'C', 'A', 'C', 'F', 'F', 'T', 'H']\n",
        "    Output:\n",
        "    s = ['A', 'C', 'F', 'G', 'H', 'T']\n",
        "    \"\"\"\n",
        "    s = set([])\n",
        "    \"\"\" CÁC BẠN LÀM BÀI Ở ĐÂY \"\"\"\n",
        "    # Chuyển danh sách thành set để loại bỏ trùng lặp, sau đó sắp xếp\n",
        "    s = set(a)\n",
        "    return sorted(s)\n",
        "\n",
        "def DemSoLanXuatHien(a):\n",
        "    \"\"\"\n",
        "    Input:\n",
        "    a = ['A', 'G', 'C', 'A', 'C', 'F', 'F', 'T', 'H']\n",
        "    Output:\n",
        "    d = {'A': 2, 'C': 2, 'F': 2, 'G': 1, 'H': 1, 'T': 1}\n",
        "    \"\"\"\n",
        "    d = {}\n",
        "    \"\"\" CÁC BẠN LÀM BÀI Ở ĐÂY \"\"\"\n",
        "    # Đếm số lần xuất hiện của mỗi ký tự\n",
        "    for ky_tu in a:\n",
        "        if ky_tu in d:\n",
        "            d[ky_tu] += 1\n",
        "        else:\n",
        "            d[ky_tu] = 1\n",
        "    return d\n",
        "\n",
        "# Chương trình chính\n",
        "def main():\n",
        "    # Nhập dãy ký tự từ người dùng\n",
        "    nhap = input(\"Nhập dãy ký tự cách nhau bởi khoảng trắng: \")\n",
        "\n",
        "    # Tách các ký tự thành danh sách\n",
        "    a = nhap.split()\n",
        "\n",
        "    # Xử lý và in kết quả\n",
        "    ket_qua_khong_trung = XuLyKhongTrung(a)\n",
        "    ket_qua_dem = DemSoLanXuatHien(a)\n",
        "\n",
        "    print(\"\\nCác ký tự không trùng nhau (sắp xếp tăng dần):\")\n",
        "    print(ket_qua_khong_trung)\n",
        "\n",
        "    print(\"\\nSố lần xuất hiện của các ký tự:\")\n",
        "    for ky_tu, so_lan in ket_qua_dem.items():\n",
        "        print(f\"'{ky_tu}': {so_lan}\")\n",
        "\n",
        "# Chạy chương trình\n",
        "if __name__ == \"__main__\":\n",
        "    main()"
      ]
    },
    {
      "cell_type": "code",
      "execution_count": 79,
      "id": "441638fc-6c33-4bf7-82a5-7e6dcfb400e2",
      "metadata": {
        "id": "441638fc-6c33-4bf7-82a5-7e6dcfb400e2",
        "colab": {
          "base_uri": "https://localhost:8080/"
        },
        "outputId": "6f2a7d61-ad6b-4ee3-9b48-4d1ed2927a0b"
      },
      "outputs": [
        {
          "output_type": "stream",
          "name": "stdout",
          "text": [
            "['A', 'C', 'F', 'G', 'H', 'T']\n"
          ]
        }
      ],
      "source": [
        "a = ['A', 'G', 'C', 'A', 'C', 'F', 'F', 'T', 'H']\n",
        "b = XuLyKhongTrung(a)\n",
        "print(b)"
      ]
    },
    {
      "cell_type": "code",
      "execution_count": 81,
      "id": "ed5c380a-09fa-4da3-afb9-fcd863fe3ecb",
      "metadata": {
        "id": "ed5c380a-09fa-4da3-afb9-fcd863fe3ecb"
      },
      "outputs": [],
      "source": [
        "def DemSoLanXuatHien(a):\n",
        "    \"\"\"\n",
        "    Input:\n",
        "        a = ['A', 'G', 'C', 'A', 'C', 'F', 'F', 'T', 'H']\n",
        "    Output:\n",
        "        dem = {'A': 2, 'G': 1, 'C': 2, 'F': 2, 'T': 1, 'H': 1}\n",
        "    \"\"\"\n",
        "    dem = {} # (k, v): k (ky tu) v (so lan xuat hien)\n",
        "\n",
        "    # Duyệt qua từng phần tử trong danh sách a\n",
        "    for ky_tu in a:\n",
        "        # Nếu ký tự đã có trong từ điển, tăng giá trị lên 1\n",
        "        if ky_tu in dem:\n",
        "            dem[ky_tu] += 1\n",
        "        # Nếu ký tự chưa có trong từ điển, thêm vào với giá trị 1\n",
        "        else:\n",
        "            dem[ky_tu] = 1\n",
        "\n",
        "    return dem"
      ]
    },
    {
      "cell_type": "code",
      "execution_count": 82,
      "id": "235695e6-a3de-4bfb-a432-6ab086836877",
      "metadata": {
        "id": "235695e6-a3de-4bfb-a432-6ab086836877",
        "colab": {
          "base_uri": "https://localhost:8080/"
        },
        "outputId": "82c1cf4b-7742-41e9-c5c7-0d637c187961"
      },
      "outputs": [
        {
          "output_type": "stream",
          "name": "stdout",
          "text": [
            "{'A': 2, 'G': 1, 'C': 2, 'F': 2, 'T': 1, 'H': 1}\n"
          ]
        }
      ],
      "source": [
        "a = ['A', 'G', 'C', 'A', 'C', 'F', 'F', 'T', 'H']\n",
        "b = DemSoLanXuatHien(a)\n",
        "print(b)"
      ]
    },
    {
      "cell_type": "markdown",
      "id": "a9c840d7-09b9-47fe-8422-2131838da3a5",
      "metadata": {
        "id": "a9c840d7-09b9-47fe-8422-2131838da3a5"
      },
      "source": [
        "# Kết thúc"
      ]
    }
  ],
  "metadata": {
    "colab": {
      "provenance": []
    },
    "kernelspec": {
      "display_name": "Python 3",
      "language": "python",
      "name": "python3"
    },
    "language_info": {
      "codemirror_mode": {
        "name": "ipython",
        "version": 3
      },
      "file_extension": ".py",
      "mimetype": "text/x-python",
      "name": "python",
      "nbconvert_exporter": "python",
      "pygments_lexer": "ipython3",
      "version": "3.8.8"
    }
  },
  "nbformat": 4,
  "nbformat_minor": 5
}