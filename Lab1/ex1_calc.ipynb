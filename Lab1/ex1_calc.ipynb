{
  "nbformat": 4,
  "nbformat_minor": 0,
  "metadata": {
    "colab": {
      "provenance": []
    },
    "kernelspec": {
      "name": "python3",
      "display_name": "Python 3"
    },
    "language_info": {
      "name": "python"
    }
  },
  "cells": [
    {
      "cell_type": "code",
      "execution_count": null,
      "metadata": {
        "id": "8jIWKNsv-_ja"
      },
      "outputs": [],
      "source": []
    },
    {
      "cell_type": "code",
      "source": [
        "print(\"Calculator Basic\")\n",
        "\n",
        "a = int(input(\"Moi ban nhap so a: \"))\n",
        "b = int(input(\"Moi ban nhap so b: \"))\n",
        "\n",
        "c = a + b\n",
        "print(\"c = %d + %d = %d\" % (a, b, c))\n",
        "4"
      ],
      "metadata": {
        "colab": {
          "base_uri": "https://localhost:8080/"
        },
        "id": "wif7lnLj_a10",
        "outputId": "09a7eef8-f77c-448e-bcfa-f75210264898"
      },
      "execution_count": 4,
      "outputs": [
        {
          "output_type": "stream",
          "name": "stdout",
          "text": [
            "Calculator Basic\n",
            "Moi ban nhap so a: 4\n",
            "Moi ban nhap so b: 4\n",
            "c = 4 + 4 = 8\n"
          ]
        }
      ]
    }
  ]
}